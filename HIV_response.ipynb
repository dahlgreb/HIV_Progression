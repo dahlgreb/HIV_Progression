{
  "nbformat": 4,
  "nbformat_minor": 0,
  "metadata": {
    "colab": {
      "name": "HIV_response.ipynb",
      "provenance": [],
      "collapsed_sections": []
    },
    "kernelspec": {
      "display_name": "Python 3",
      "name": "python3"
    },
    "language_info": {
      "name": "python"
    },
    "accelerator": "GPU"
  },
  "cells": [
    {
      "cell_type": "code",
      "metadata": {
        "id": "BcdFNL5UIlJt"
      },
      "source": [
        "# !pip install plotly\n",
        "\n",
        "# import plotly.express as px"
      ],
      "execution_count": 78,
      "outputs": []
    },
    {
      "cell_type": "code",
      "metadata": {
        "id": "bmvUm80TH-MO"
      },
      "source": [
        "import pandas as pd\n",
        "import numpy as np\n",
        "import tensorflow\n",
        "from tensorflow.keras.models import Sequential\n",
        "from tensorflow.keras.layers import Dense, Dropout, Flatten\n",
        "from tensorflow.keras.layers import Conv2D, MaxPooling2D\n",
        "from sklearn.model_selection import train_test_split\n",
        "import tensorflow as tf\n",
        "from sklearn.utils import class_weight\n",
        "from sklearn.metrics import accuracy_score\n",
        "from sklearn.metrics import confusion_matrix"
      ],
      "execution_count": 79,
      "outputs": []
    },
    {
      "cell_type": "code",
      "metadata": {
        "id": "pmrZgK77h3gU"
      },
      "source": [
        "from keras.models import Model, load_model\n",
        "from keras.layers import Input, Dense, Dropout\n",
        "from keras.callbacks import ModelCheckpoint, TensorBoard\n",
        "from keras import regularizers\n",
        "from keras.preprocessing.sequence import pad_sequences\n",
        "from matplotlib import pyplot as plt"
      ],
      "execution_count": 80,
      "outputs": []
    },
    {
      "cell_type": "code",
      "metadata": {
        "id": "JylPppL1IdLw"
      },
      "source": [
        "# pd.options.plotting.backend = \"plotly\""
      ],
      "execution_count": 81,
      "outputs": []
    },
    {
      "cell_type": "code",
      "metadata": {
        "id": "51MxreETJNTZ"
      },
      "source": [
        "df_train = pd.read_csv('training_data.csv')"
      ],
      "execution_count": 82,
      "outputs": []
    },
    {
      "cell_type": "code",
      "metadata": {
        "colab": {
          "base_uri": "https://localhost:8080/"
        },
        "id": "a1UzIc5vV7Kc",
        "outputId": "0362da50-f60c-42ab-e3a8-ced29fe1409a"
      },
      "source": [
        "df_train.columns"
      ],
      "execution_count": 83,
      "outputs": [
        {
          "output_type": "execute_result",
          "data": {
            "text/plain": [
              "Index(['PatientID', 'Resp', 'PR Seq', 'RT Seq', 'VL-t0', 'CD4-t0'], dtype='object')"
            ]
          },
          "metadata": {},
          "execution_count": 83
        }
      ]
    },
    {
      "cell_type": "code",
      "metadata": {
        "colab": {
          "base_uri": "https://localhost:8080/",
          "height": 423
        },
        "id": "UKy-_6UeJTze",
        "outputId": "c4eda838-f8e1-4610-f531-ad6bedc0ecc6"
      },
      "source": [
        "df_train"
      ],
      "execution_count": 84,
      "outputs": [
        {
          "output_type": "execute_result",
          "data": {
            "text/html": [
              "<div>\n",
              "<style scoped>\n",
              "    .dataframe tbody tr th:only-of-type {\n",
              "        vertical-align: middle;\n",
              "    }\n",
              "\n",
              "    .dataframe tbody tr th {\n",
              "        vertical-align: top;\n",
              "    }\n",
              "\n",
              "    .dataframe thead th {\n",
              "        text-align: right;\n",
              "    }\n",
              "</style>\n",
              "<table border=\"1\" class=\"dataframe\">\n",
              "  <thead>\n",
              "    <tr style=\"text-align: right;\">\n",
              "      <th></th>\n",
              "      <th>PatientID</th>\n",
              "      <th>Resp</th>\n",
              "      <th>PR Seq</th>\n",
              "      <th>RT Seq</th>\n",
              "      <th>VL-t0</th>\n",
              "      <th>CD4-t0</th>\n",
              "    </tr>\n",
              "  </thead>\n",
              "  <tbody>\n",
              "    <tr>\n",
              "      <th>0</th>\n",
              "      <td>1</td>\n",
              "      <td>0</td>\n",
              "      <td>CCTCAAATCACTCTTTGGCAACGACCCCTCGTCCCAATAAGGATAG...</td>\n",
              "      <td>CCCATTAGTCCTATTGAAACTGTACCAGTAAAGCTAAAGCCAGGAA...</td>\n",
              "      <td>4.30</td>\n",
              "      <td>145</td>\n",
              "    </tr>\n",
              "    <tr>\n",
              "      <th>1</th>\n",
              "      <td>2</td>\n",
              "      <td>0</td>\n",
              "      <td>CCTCAAATCACTCTTTGGCAACGACCCCTCGTCGCAATAAAGATAG...</td>\n",
              "      <td>CCCATTAGTCCTATTGAAACTGTACCAGTAAAATTAAAGCCAGGAA...</td>\n",
              "      <td>3.60</td>\n",
              "      <td>224</td>\n",
              "    </tr>\n",
              "    <tr>\n",
              "      <th>2</th>\n",
              "      <td>3</td>\n",
              "      <td>0</td>\n",
              "      <td>CCTCAAATCACTCTTTGGCAACGACCCCTCGTCGCAATAAAGGTAG...</td>\n",
              "      <td>CCCATTAGTCCTATTGAAACTGTACCAGTAAAATTAAAGCCAGGAA...</td>\n",
              "      <td>3.20</td>\n",
              "      <td>1017</td>\n",
              "    </tr>\n",
              "    <tr>\n",
              "      <th>3</th>\n",
              "      <td>4</td>\n",
              "      <td>0</td>\n",
              "      <td>CCTCAAATCACTCTTTGGCAACGACCCCTCGTCGCAATAAGGATAG...</td>\n",
              "      <td>CCCATTAGTCCTATTGAAACTGTACCAGTAAAATTAAAGCCAGGAA...</td>\n",
              "      <td>5.70</td>\n",
              "      <td>206</td>\n",
              "    </tr>\n",
              "    <tr>\n",
              "      <th>4</th>\n",
              "      <td>5</td>\n",
              "      <td>0</td>\n",
              "      <td>CCTCAAATCACTCTTTGGCAACGACCCCTCGTCGCAGTAAAGATAG...</td>\n",
              "      <td>CCCATTAGTCCTATTGAAACTGTACCAGTAAAATTAAAGCCAGGAA...</td>\n",
              "      <td>3.50</td>\n",
              "      <td>572</td>\n",
              "    </tr>\n",
              "    <tr>\n",
              "      <th>...</th>\n",
              "      <td>...</td>\n",
              "      <td>...</td>\n",
              "      <td>...</td>\n",
              "      <td>...</td>\n",
              "      <td>...</td>\n",
              "      <td>...</td>\n",
              "    </tr>\n",
              "    <tr>\n",
              "      <th>995</th>\n",
              "      <td>996</td>\n",
              "      <td>0</td>\n",
              "      <td>NaN</td>\n",
              "      <td>CCCATTAGTCCTATTGARACTGTACCAGTAMAATTAAAGCCAGGAA...</td>\n",
              "      <td>3.15</td>\n",
              "      <td>354</td>\n",
              "    </tr>\n",
              "    <tr>\n",
              "      <th>996</th>\n",
              "      <td>997</td>\n",
              "      <td>0</td>\n",
              "      <td>NaN</td>\n",
              "      <td>CCCATYAGTCCTATTGAAACTGTACCAGTAAAATTAAAGCCAGGAA...</td>\n",
              "      <td>5.50</td>\n",
              "      <td>50</td>\n",
              "    </tr>\n",
              "    <tr>\n",
              "      <th>997</th>\n",
              "      <td>998</td>\n",
              "      <td>0</td>\n",
              "      <td>NaN</td>\n",
              "      <td>CCCATYAGTCCTATTGAAACTGTACCAGTAAAATTAAAGCCAGGAA...</td>\n",
              "      <td>4.10</td>\n",
              "      <td>369</td>\n",
              "    </tr>\n",
              "    <tr>\n",
              "      <th>998</th>\n",
              "      <td>999</td>\n",
              "      <td>0</td>\n",
              "      <td>NaN</td>\n",
              "      <td>CCTATTAGTCCTATTGAAACTGTACCAGTAAAATTAAAGCCAGGAA...</td>\n",
              "      <td>3.37</td>\n",
              "      <td>127</td>\n",
              "    </tr>\n",
              "    <tr>\n",
              "      <th>999</th>\n",
              "      <td>1000</td>\n",
              "      <td>0</td>\n",
              "      <td>NaN</td>\n",
              "      <td>CCTATTAGTCCTATTGAAACTGTACCTGTAAAATTAAAGCMAGGAA...</td>\n",
              "      <td>4.97</td>\n",
              "      <td>570</td>\n",
              "    </tr>\n",
              "  </tbody>\n",
              "</table>\n",
              "<p>1000 rows × 6 columns</p>\n",
              "</div>"
            ],
            "text/plain": [
              "     PatientID  Resp  ... VL-t0 CD4-t0\n",
              "0            1     0  ...  4.30    145\n",
              "1            2     0  ...  3.60    224\n",
              "2            3     0  ...  3.20   1017\n",
              "3            4     0  ...  5.70    206\n",
              "4            5     0  ...  3.50    572\n",
              "..         ...   ...  ...   ...    ...\n",
              "995        996     0  ...  3.15    354\n",
              "996        997     0  ...  5.50     50\n",
              "997        998     0  ...  4.10    369\n",
              "998        999     0  ...  3.37    127\n",
              "999       1000     0  ...  4.97    570\n",
              "\n",
              "[1000 rows x 6 columns]"
            ]
          },
          "metadata": {},
          "execution_count": 84
        }
      ]
    },
    {
      "cell_type": "code",
      "metadata": {
        "id": "4gvCB729tuW-"
      },
      "source": [
        "feature = 'RT Seq'"
      ],
      "execution_count": 85,
      "outputs": []
    },
    {
      "cell_type": "markdown",
      "metadata": {
        "id": "cW38pdWHkCHS"
      },
      "source": [
        "#CNN"
      ]
    },
    {
      "cell_type": "code",
      "metadata": {
        "colab": {
          "base_uri": "https://localhost:8080/"
        },
        "id": "yAmczEGPtr6i",
        "outputId": "3591f51e-4dcc-4071-a3b8-23bf442a9ec2"
      },
      "source": [
        "df_train['Resp'].value_counts()\n",
        "# strongly weighted towards 0"
      ],
      "execution_count": 86,
      "outputs": [
        {
          "output_type": "execute_result",
          "data": {
            "text/plain": [
              "0    794\n",
              "1    206\n",
              "Name: Resp, dtype: int64"
            ]
          },
          "metadata": {},
          "execution_count": 86
        }
      ]
    },
    {
      "cell_type": "code",
      "metadata": {
        "id": "2J3EvtEvJVMu"
      },
      "source": [
        "# df_train.plot.scatter(x='CD4-t0', y='VL-t0')"
      ],
      "execution_count": 87,
      "outputs": []
    },
    {
      "cell_type": "code",
      "metadata": {
        "colab": {
          "base_uri": "https://localhost:8080/"
        },
        "id": "kfX6w8KVacav",
        "outputId": "b672c2c4-ece5-4fce-8441-a9174d35a485"
      },
      "source": [
        "df_train[feature].apply(lambda x: len(str(x))).value_counts()"
      ],
      "execution_count": 88,
      "outputs": [
        {
          "output_type": "execute_result",
          "data": {
            "text/plain": [
              "900     150\n",
              "909      93\n",
              "903      88\n",
              "1005     80\n",
              "750      74\n",
              "       ... \n",
              "1482      1\n",
              "1479      1\n",
              "951       1\n",
              "963       1\n",
              "1032      1\n",
              "Name: RT Seq, Length: 116, dtype: int64"
            ]
          },
          "metadata": {},
          "execution_count": 88
        }
      ]
    },
    {
      "cell_type": "code",
      "metadata": {
        "id": "TkxlSdpxbdYf"
      },
      "source": [
        "# align_dynamic2(s1,s2)"
      ],
      "execution_count": 89,
      "outputs": []
    },
    {
      "cell_type": "code",
      "metadata": {
        "colab": {
          "base_uri": "https://localhost:8080/"
        },
        "id": "LqQG7D5lK_ut",
        "outputId": "c4ff8f05-de80-430b-c366-3881b9c64cfb"
      },
      "source": [
        "len(df_train[feature][0])"
      ],
      "execution_count": 90,
      "outputs": [
        {
          "output_type": "execute_result",
          "data": {
            "text/plain": [
              "1005"
            ]
          },
          "metadata": {},
          "execution_count": 90
        }
      ]
    },
    {
      "cell_type": "code",
      "metadata": {
        "colab": {
          "base_uri": "https://localhost:8080/"
        },
        "id": "z-uAdfA7Lrk3",
        "outputId": "9fecc25f-d1b6-4604-9f8a-c0a1f0fd4f6a"
      },
      "source": [
        "seq = df_train[feature][0]\n",
        "d = {}\n",
        "unique = 0\n",
        "for c in seq:\n",
        "  if c not in d:\n",
        "    d[c] = unique\n",
        "    unique += 1\n",
        "d"
      ],
      "execution_count": 91,
      "outputs": [
        {
          "output_type": "execute_result",
          "data": {
            "text/plain": [
              "{'A': 1, 'C': 0, 'G': 3, 'K': 8, 'M': 6, 'R': 7, 'T': 2, 'W': 5, 'Y': 4}"
            ]
          },
          "metadata": {},
          "execution_count": 91
        }
      ]
    },
    {
      "cell_type": "code",
      "metadata": {
        "colab": {
          "base_uri": "https://localhost:8080/",
          "height": 423
        },
        "id": "oYA4DahXMaWA",
        "outputId": "9b0bada0-7013-4288-82ed-b9f9817dec4d"
      },
      "source": [
        "df_arr = pd.DataFrame()\n",
        "arr = []\n",
        "for k in d:\n",
        "  s = []\n",
        "  for c in seq:\n",
        "    if c == k:\n",
        "      s.append(1)\n",
        "    else:\n",
        "      s.append(0)\n",
        "  arr.append(s)\n",
        "  df_arr[k] = s\n",
        "df_arr"
      ],
      "execution_count": 92,
      "outputs": [
        {
          "output_type": "execute_result",
          "data": {
            "text/html": [
              "<div>\n",
              "<style scoped>\n",
              "    .dataframe tbody tr th:only-of-type {\n",
              "        vertical-align: middle;\n",
              "    }\n",
              "\n",
              "    .dataframe tbody tr th {\n",
              "        vertical-align: top;\n",
              "    }\n",
              "\n",
              "    .dataframe thead th {\n",
              "        text-align: right;\n",
              "    }\n",
              "</style>\n",
              "<table border=\"1\" class=\"dataframe\">\n",
              "  <thead>\n",
              "    <tr style=\"text-align: right;\">\n",
              "      <th></th>\n",
              "      <th>C</th>\n",
              "      <th>A</th>\n",
              "      <th>T</th>\n",
              "      <th>G</th>\n",
              "      <th>Y</th>\n",
              "      <th>W</th>\n",
              "      <th>M</th>\n",
              "      <th>R</th>\n",
              "      <th>K</th>\n",
              "    </tr>\n",
              "  </thead>\n",
              "  <tbody>\n",
              "    <tr>\n",
              "      <th>0</th>\n",
              "      <td>1</td>\n",
              "      <td>0</td>\n",
              "      <td>0</td>\n",
              "      <td>0</td>\n",
              "      <td>0</td>\n",
              "      <td>0</td>\n",
              "      <td>0</td>\n",
              "      <td>0</td>\n",
              "      <td>0</td>\n",
              "    </tr>\n",
              "    <tr>\n",
              "      <th>1</th>\n",
              "      <td>1</td>\n",
              "      <td>0</td>\n",
              "      <td>0</td>\n",
              "      <td>0</td>\n",
              "      <td>0</td>\n",
              "      <td>0</td>\n",
              "      <td>0</td>\n",
              "      <td>0</td>\n",
              "      <td>0</td>\n",
              "    </tr>\n",
              "    <tr>\n",
              "      <th>2</th>\n",
              "      <td>1</td>\n",
              "      <td>0</td>\n",
              "      <td>0</td>\n",
              "      <td>0</td>\n",
              "      <td>0</td>\n",
              "      <td>0</td>\n",
              "      <td>0</td>\n",
              "      <td>0</td>\n",
              "      <td>0</td>\n",
              "    </tr>\n",
              "    <tr>\n",
              "      <th>3</th>\n",
              "      <td>0</td>\n",
              "      <td>1</td>\n",
              "      <td>0</td>\n",
              "      <td>0</td>\n",
              "      <td>0</td>\n",
              "      <td>0</td>\n",
              "      <td>0</td>\n",
              "      <td>0</td>\n",
              "      <td>0</td>\n",
              "    </tr>\n",
              "    <tr>\n",
              "      <th>4</th>\n",
              "      <td>0</td>\n",
              "      <td>0</td>\n",
              "      <td>1</td>\n",
              "      <td>0</td>\n",
              "      <td>0</td>\n",
              "      <td>0</td>\n",
              "      <td>0</td>\n",
              "      <td>0</td>\n",
              "      <td>0</td>\n",
              "    </tr>\n",
              "    <tr>\n",
              "      <th>...</th>\n",
              "      <td>...</td>\n",
              "      <td>...</td>\n",
              "      <td>...</td>\n",
              "      <td>...</td>\n",
              "      <td>...</td>\n",
              "      <td>...</td>\n",
              "      <td>...</td>\n",
              "      <td>...</td>\n",
              "      <td>...</td>\n",
              "    </tr>\n",
              "    <tr>\n",
              "      <th>1000</th>\n",
              "      <td>0</td>\n",
              "      <td>1</td>\n",
              "      <td>0</td>\n",
              "      <td>0</td>\n",
              "      <td>0</td>\n",
              "      <td>0</td>\n",
              "      <td>0</td>\n",
              "      <td>0</td>\n",
              "      <td>0</td>\n",
              "    </tr>\n",
              "    <tr>\n",
              "      <th>1001</th>\n",
              "      <td>0</td>\n",
              "      <td>1</td>\n",
              "      <td>0</td>\n",
              "      <td>0</td>\n",
              "      <td>0</td>\n",
              "      <td>0</td>\n",
              "      <td>0</td>\n",
              "      <td>0</td>\n",
              "      <td>0</td>\n",
              "    </tr>\n",
              "    <tr>\n",
              "      <th>1002</th>\n",
              "      <td>0</td>\n",
              "      <td>0</td>\n",
              "      <td>0</td>\n",
              "      <td>1</td>\n",
              "      <td>0</td>\n",
              "      <td>0</td>\n",
              "      <td>0</td>\n",
              "      <td>0</td>\n",
              "      <td>0</td>\n",
              "    </tr>\n",
              "    <tr>\n",
              "      <th>1003</th>\n",
              "      <td>0</td>\n",
              "      <td>0</td>\n",
              "      <td>0</td>\n",
              "      <td>1</td>\n",
              "      <td>0</td>\n",
              "      <td>0</td>\n",
              "      <td>0</td>\n",
              "      <td>0</td>\n",
              "      <td>0</td>\n",
              "    </tr>\n",
              "    <tr>\n",
              "      <th>1004</th>\n",
              "      <td>1</td>\n",
              "      <td>0</td>\n",
              "      <td>0</td>\n",
              "      <td>0</td>\n",
              "      <td>0</td>\n",
              "      <td>0</td>\n",
              "      <td>0</td>\n",
              "      <td>0</td>\n",
              "      <td>0</td>\n",
              "    </tr>\n",
              "  </tbody>\n",
              "</table>\n",
              "<p>1005 rows × 9 columns</p>\n",
              "</div>"
            ],
            "text/plain": [
              "      C  A  T  G  Y  W  M  R  K\n",
              "0     1  0  0  0  0  0  0  0  0\n",
              "1     1  0  0  0  0  0  0  0  0\n",
              "2     1  0  0  0  0  0  0  0  0\n",
              "3     0  1  0  0  0  0  0  0  0\n",
              "4     0  0  1  0  0  0  0  0  0\n",
              "...  .. .. .. .. .. .. .. .. ..\n",
              "1000  0  1  0  0  0  0  0  0  0\n",
              "1001  0  1  0  0  0  0  0  0  0\n",
              "1002  0  0  0  1  0  0  0  0  0\n",
              "1003  0  0  0  1  0  0  0  0  0\n",
              "1004  1  0  0  0  0  0  0  0  0\n",
              "\n",
              "[1005 rows x 9 columns]"
            ]
          },
          "metadata": {},
          "execution_count": 92
        }
      ]
    },
    {
      "cell_type": "code",
      "metadata": {
        "colab": {
          "base_uri": "https://localhost:8080/"
        },
        "id": "xS7Kxidl7NZ9",
        "outputId": "b495c664-95ad-49a3-fcf7-98e6b68e4970"
      },
      "source": [
        "df_arr.sum()"
      ],
      "execution_count": 93,
      "outputs": [
        {
          "output_type": "execute_result",
          "data": {
            "text/plain": [
              "C    167\n",
              "A    402\n",
              "T    218\n",
              "G    210\n",
              "Y      4\n",
              "W      1\n",
              "M      1\n",
              "R      1\n",
              "K      1\n",
              "dtype: int64"
            ]
          },
          "metadata": {},
          "execution_count": 93
        }
      ]
    },
    {
      "cell_type": "code",
      "metadata": {
        "id": "FcShvrgsPZmo"
      },
      "source": [
        "# R: G or A\n",
        "# Y: C or T\n",
        "def encode(seq,d,length):\n",
        "    arr = []\n",
        "    for k in d:\n",
        "      s = []\n",
        "      for c in seq:\n",
        "          if c == k:\n",
        "              s.append(1)\n",
        "          else:\n",
        "              s.append(0)\n",
        "      res = [0] * (length - len(s))\n",
        "      s.extend(res)\n",
        "      arr.append(s)\n",
        "    return np.array(arr)"
      ],
      "execution_count": 94,
      "outputs": []
    },
    {
      "cell_type": "code",
      "metadata": {
        "id": "jtiASjRZQ_j3"
      },
      "source": [
        "df_train.dropna(inplace=True)"
      ],
      "execution_count": 95,
      "outputs": []
    },
    {
      "cell_type": "code",
      "metadata": {
        "colab": {
          "base_uri": "https://localhost:8080/"
        },
        "id": "ZE9Nfc2PPg6S",
        "outputId": "d750344c-7c3b-43d1-bd0b-bd35f17e3762"
      },
      "source": [
        "# get the longest sequence length\n",
        "length = max(df_train[feature].apply(lambda x : len(x)))\n",
        "# one-hot encode each sequence\n",
        "encoded = []\n",
        "for seq in df_train[feature]:\n",
        "  encoded.append(encode(seq,d,length))\n",
        "np.shape(encoded)"
      ],
      "execution_count": 96,
      "outputs": [
        {
          "output_type": "execute_result",
          "data": {
            "text/plain": [
              "(920, 9, 1482)"
            ]
          },
          "metadata": {},
          "execution_count": 96
        }
      ]
    },
    {
      "cell_type": "code",
      "metadata": {
        "id": "FoLDosi2RMVS"
      },
      "source": [
        "X_train, X_test, y_train, y_test = train_test_split(encoded, np.array(df_train['Resp']), test_size=0.20)"
      ],
      "execution_count": 97,
      "outputs": []
    },
    {
      "cell_type": "code",
      "metadata": {
        "colab": {
          "base_uri": "https://localhost:8080/"
        },
        "id": "MX1ALbM7Tlrp",
        "outputId": "41ef62bf-2108-45d1-edb3-a836aacf854a"
      },
      "source": [
        "np.array(X_train[0])"
      ],
      "execution_count": 98,
      "outputs": [
        {
          "output_type": "execute_result",
          "data": {
            "text/plain": [
              "array([[1, 1, 1, ..., 0, 0, 0],\n",
              "       [0, 0, 0, ..., 0, 0, 0],\n",
              "       [0, 0, 0, ..., 0, 0, 0],\n",
              "       ...,\n",
              "       [0, 0, 0, ..., 0, 0, 0],\n",
              "       [0, 0, 0, ..., 0, 0, 0],\n",
              "       [0, 0, 0, ..., 0, 0, 0]])"
            ]
          },
          "metadata": {},
          "execution_count": 98
        }
      ]
    },
    {
      "cell_type": "code",
      "metadata": {
        "colab": {
          "base_uri": "https://localhost:8080/"
        },
        "id": "1Fn-NjzHaqiN",
        "outputId": "7a6bccc7-7aec-428d-8a69-6b00835cb897"
      },
      "source": [
        "pd.Series(y_train).value_counts()"
      ],
      "execution_count": 99,
      "outputs": [
        {
          "output_type": "execute_result",
          "data": {
            "text/plain": [
              "0    594\n",
              "1    142\n",
              "dtype: int64"
            ]
          },
          "metadata": {},
          "execution_count": 99
        }
      ]
    },
    {
      "cell_type": "code",
      "metadata": {
        "id": "kPbwuzX_a26y"
      },
      "source": [
        "# upsampled_x=[]\n",
        "# upsampled_y=[]\n",
        "# for i,d in enumerate(X_train):\n",
        "#     upsampled.append(d)\n",
        "#     if y_train[i]==1:\n",
        "        "
      ],
      "execution_count": 100,
      "outputs": []
    },
    {
      "cell_type": "code",
      "metadata": {
        "colab": {
          "base_uri": "https://localhost:8080/"
        },
        "id": "VwphA_Tgi38r",
        "outputId": "f05893dd-ca36-4ea6-8f8b-a64d7266e887"
      },
      "source": [
        "np.shape(X_train), np.shape(y_train)"
      ],
      "execution_count": 101,
      "outputs": [
        {
          "output_type": "execute_result",
          "data": {
            "text/plain": [
              "((736, 9, 1482), (736,))"
            ]
          },
          "metadata": {},
          "execution_count": 101
        }
      ]
    },
    {
      "cell_type": "code",
      "metadata": {
        "colab": {
          "base_uri": "https://localhost:8080/"
        },
        "id": "uwK2SZCHpFEV",
        "outputId": "ed6a9e89-624c-47f6-fb6e-e4c72df487ac"
      },
      "source": [
        "np.shape(X_test), np.shape(y_test)"
      ],
      "execution_count": 102,
      "outputs": [
        {
          "output_type": "execute_result",
          "data": {
            "text/plain": [
              "((184, 9, 1482), (184,))"
            ]
          },
          "metadata": {},
          "execution_count": 102
        }
      ]
    },
    {
      "cell_type": "code",
      "metadata": {
        "id": "UziHF-8kpitQ"
      },
      "source": [
        "X_train = np.reshape(X_train,(736,9,1482,1))\n",
        "X_test = np.reshape(X_test,(184,9,1482,1))"
      ],
      "execution_count": 103,
      "outputs": []
    },
    {
      "cell_type": "code",
      "metadata": {
        "colab": {
          "base_uri": "https://localhost:8080/"
        },
        "id": "vzgMe9VZPC4j",
        "outputId": "e2e35cbc-1b29-46b1-d89d-2341caaa8eb3"
      },
      "source": [
        "input_shape = (np.shape(X_train)[1],np.shape(X_train)[2],1)\n",
        "model = Sequential()\n",
        "model.add(Conv2D(32, kernel_size=3, activation='relu',padding='same', input_shape=input_shape))\n",
        "# model.add(MaxPooling2D(pool_size=(2, 2)))\n",
        "# model.add(Dropout(0.25))\n",
        "model.add(Conv2D(64, kernel_size=3, padding='same',activation='relu'))\n",
        "# model.add(MaxPooling2D(pool_size=(2, 2)))\n",
        "# model.add(Dropout(0.25))\n",
        "model.add(Flatten())\n",
        "model.add(Dense(256, activation='relu'))\n",
        "model.add(Dense(1, activation='sigmoid'))\n",
        "\n",
        "model.compile(loss=tf.keras.losses.binary_crossentropy,\n",
        "              optimizer='adam',\n",
        "              metrics=['accuracy'])\n",
        "batch_size = 64\n",
        "num_epoch = 30\n",
        "#model training\n",
        "model_log = model.fit(X_train, y_train,\n",
        "          batch_size=batch_size,\n",
        "          epochs=num_epoch,\n",
        "          verbose=1,\n",
        "          validation_data = (X_test,y_test),\n",
        "        #   class_weight={0:1, 1:2}\n",
        "          )"
      ],
      "execution_count": 104,
      "outputs": [
        {
          "output_type": "stream",
          "name": "stdout",
          "text": [
            "Epoch 1/30\n",
            "12/12 [==============================] - 4s 314ms/step - loss: 2.2738 - accuracy: 0.6889 - val_loss: 0.6612 - val_accuracy: 0.7554\n",
            "Epoch 2/30\n",
            "12/12 [==============================] - 4s 294ms/step - loss: 0.4941 - accuracy: 0.8071 - val_loss: 0.5437 - val_accuracy: 0.7554\n",
            "Epoch 3/30\n",
            "12/12 [==============================] - 4s 295ms/step - loss: 0.4478 - accuracy: 0.8166 - val_loss: 0.5792 - val_accuracy: 0.7554\n",
            "Epoch 4/30\n",
            "12/12 [==============================] - 4s 294ms/step - loss: 0.4325 - accuracy: 0.8207 - val_loss: 0.5427 - val_accuracy: 0.7554\n",
            "Epoch 5/30\n",
            "12/12 [==============================] - 4s 293ms/step - loss: 0.4328 - accuracy: 0.8234 - val_loss: 0.5600 - val_accuracy: 0.7554\n",
            "Epoch 6/30\n",
            "12/12 [==============================] - 4s 293ms/step - loss: 0.4218 - accuracy: 0.8234 - val_loss: 0.5444 - val_accuracy: 0.7554\n",
            "Epoch 7/30\n",
            "12/12 [==============================] - 4s 294ms/step - loss: 0.4189 - accuracy: 0.8247 - val_loss: 0.5711 - val_accuracy: 0.7554\n",
            "Epoch 8/30\n",
            "12/12 [==============================] - 4s 292ms/step - loss: 0.4127 - accuracy: 0.8288 - val_loss: 0.5394 - val_accuracy: 0.7554\n",
            "Epoch 9/30\n",
            "12/12 [==============================] - 4s 293ms/step - loss: 0.4067 - accuracy: 0.8329 - val_loss: 0.5431 - val_accuracy: 0.7609\n",
            "Epoch 10/30\n",
            "12/12 [==============================] - 3s 292ms/step - loss: 0.3839 - accuracy: 0.8315 - val_loss: 0.5553 - val_accuracy: 0.7609\n",
            "Epoch 11/30\n",
            "12/12 [==============================] - 4s 293ms/step - loss: 0.3609 - accuracy: 0.8533 - val_loss: 0.5560 - val_accuracy: 0.7609\n",
            "Epoch 12/30\n",
            "12/12 [==============================] - 4s 293ms/step - loss: 0.3211 - accuracy: 0.8641 - val_loss: 0.5423 - val_accuracy: 0.7554\n",
            "Epoch 13/30\n",
            "12/12 [==============================] - 3s 292ms/step - loss: 0.2779 - accuracy: 0.8954 - val_loss: 0.5981 - val_accuracy: 0.7554\n",
            "Epoch 14/30\n",
            "12/12 [==============================] - 4s 294ms/step - loss: 0.2052 - accuracy: 0.9198 - val_loss: 0.5769 - val_accuracy: 0.7337\n",
            "Epoch 15/30\n",
            "12/12 [==============================] - 4s 294ms/step - loss: 0.1599 - accuracy: 0.9511 - val_loss: 0.6549 - val_accuracy: 0.6576\n",
            "Epoch 16/30\n",
            "12/12 [==============================] - 4s 293ms/step - loss: 0.1493 - accuracy: 0.9470 - val_loss: 0.7043 - val_accuracy: 0.7337\n",
            "Epoch 17/30\n",
            "12/12 [==============================] - 4s 293ms/step - loss: 0.1018 - accuracy: 0.9755 - val_loss: 0.7645 - val_accuracy: 0.7174\n",
            "Epoch 18/30\n",
            "12/12 [==============================] - 4s 293ms/step - loss: 0.0589 - accuracy: 0.9891 - val_loss: 0.7915 - val_accuracy: 0.7011\n",
            "Epoch 19/30\n",
            "12/12 [==============================] - 3s 292ms/step - loss: 0.0436 - accuracy: 0.9932 - val_loss: 1.0308 - val_accuracy: 0.7228\n",
            "Epoch 20/30\n",
            "12/12 [==============================] - 4s 293ms/step - loss: 0.0308 - accuracy: 0.9946 - val_loss: 1.0213 - val_accuracy: 0.7174\n",
            "Epoch 21/30\n",
            "12/12 [==============================] - 4s 293ms/step - loss: 0.0192 - accuracy: 1.0000 - val_loss: 1.0606 - val_accuracy: 0.7228\n",
            "Epoch 22/30\n",
            "12/12 [==============================] - 4s 293ms/step - loss: 0.0156 - accuracy: 0.9986 - val_loss: 1.0522 - val_accuracy: 0.7011\n",
            "Epoch 23/30\n",
            "12/12 [==============================] - 4s 294ms/step - loss: 0.0169 - accuracy: 0.9986 - val_loss: 1.3416 - val_accuracy: 0.7120\n",
            "Epoch 24/30\n",
            "12/12 [==============================] - 4s 302ms/step - loss: 0.0091 - accuracy: 1.0000 - val_loss: 1.2456 - val_accuracy: 0.7120\n",
            "Epoch 25/30\n",
            "12/12 [==============================] - 4s 293ms/step - loss: 0.0063 - accuracy: 1.0000 - val_loss: 1.2876 - val_accuracy: 0.7011\n",
            "Epoch 26/30\n",
            "12/12 [==============================] - 4s 295ms/step - loss: 0.0049 - accuracy: 1.0000 - val_loss: 1.2744 - val_accuracy: 0.7065\n",
            "Epoch 27/30\n",
            "12/12 [==============================] - 4s 295ms/step - loss: 0.0050 - accuracy: 1.0000 - val_loss: 1.4120 - val_accuracy: 0.7065\n",
            "Epoch 28/30\n",
            "12/12 [==============================] - 4s 292ms/step - loss: 0.0035 - accuracy: 1.0000 - val_loss: 1.3955 - val_accuracy: 0.7228\n",
            "Epoch 29/30\n",
            "12/12 [==============================] - 4s 293ms/step - loss: 0.0028 - accuracy: 1.0000 - val_loss: 1.4139 - val_accuracy: 0.7065\n",
            "Epoch 30/30\n",
            "12/12 [==============================] - 4s 293ms/step - loss: 0.0026 - accuracy: 1.0000 - val_loss: 1.4109 - val_accuracy: 0.7120\n"
          ]
        }
      ]
    },
    {
      "cell_type": "code",
      "source": [
        "history = model_log.history\n",
        "plt.plot(history['loss'])\n",
        "plt.plot(history['val_loss'])\n",
        "plt.title('CNN model loss')\n",
        "plt.ylabel('loss')\n",
        "plt.xlabel('epoch')\n",
        "plt.legend(['train', 'test'], loc='upper right');"
      ],
      "metadata": {
        "colab": {
          "base_uri": "https://localhost:8080/",
          "height": 295
        },
        "id": "FmRO1h4rvLW2",
        "outputId": "478e8dee-7aec-4945-99b3-06e54b141d9d"
      },
      "execution_count": 105,
      "outputs": [
        {
          "output_type": "display_data",
          "data": {
            "image/png": "[encoded data removed]",
            "text/plain": [
              "<Figure size 432x288 with 1 Axes>"
            ]
          },
          "metadata": {
            "needs_background": "light"
          }
        }
      ]
    },
    {
      "cell_type": "code",
      "metadata": {
        "colab": {
          "base_uri": "https://localhost:8080/"
        },
        "id": "74tnGhjeSXmx",
        "outputId": "eb004da6-b096-49e3-edf8-d94d591be0c7"
      },
      "source": [
        "y_pred = model.predict(X_test)\n",
        "y_pred = list(map(lambda x: int(x>0.5), y_pred))\n",
        "accuracy_score(y_test,y_pred)"
      ],
      "execution_count": 106,
      "outputs": [
        {
          "output_type": "execute_result",
          "data": {
            "text/plain": [
              "0.7119565217391305"
            ]
          },
          "metadata": {},
          "execution_count": 106
        }
      ]
    },
    {
      "cell_type": "code",
      "metadata": {
        "colab": {
          "base_uri": "https://localhost:8080/"
        },
        "id": "oAI87ma9nezx",
        "outputId": "975d18bb-82c9-4877-9754-5fea0c7fdea6"
      },
      "source": [
        "confusion_matrix(y_test, y_pred)"
      ],
      "execution_count": 107,
      "outputs": [
        {
          "output_type": "execute_result",
          "data": {
            "text/plain": [
              "array([[121,  18],\n",
              "       [ 35,  10]])"
            ]
          },
          "metadata": {},
          "execution_count": 107
        }
      ]
    },
    {
      "cell_type": "markdown",
      "metadata": {
        "id": "UejCbkrmhvEo"
      },
      "source": [
        "#Autoencoder"
      ]
    },
    {
      "cell_type": "code",
      "metadata": {
        "colab": {
          "base_uri": "https://localhost:8080/",
          "height": 206
        },
        "id": "RREuLom8jeth",
        "outputId": "fb689e8c-5f8b-4574-8362-425e1b4d1ca8"
      },
      "source": [
        "df_train.head()"
      ],
      "execution_count": 108,
      "outputs": [
        {
          "output_type": "execute_result",
          "data": {
            "text/html": [
              "<div>\n",
              "<style scoped>\n",
              "    .dataframe tbody tr th:only-of-type {\n",
              "        vertical-align: middle;\n",
              "    }\n",
              "\n",
              "    .dataframe tbody tr th {\n",
              "        vertical-align: top;\n",
              "    }\n",
              "\n",
              "    .dataframe thead th {\n",
              "        text-align: right;\n",
              "    }\n",
              "</style>\n",
              "<table border=\"1\" class=\"dataframe\">\n",
              "  <thead>\n",
              "    <tr style=\"text-align: right;\">\n",
              "      <th></th>\n",
              "      <th>PatientID</th>\n",
              "      <th>Resp</th>\n",
              "      <th>PR Seq</th>\n",
              "      <th>RT Seq</th>\n",
              "      <th>VL-t0</th>\n",
              "      <th>CD4-t0</th>\n",
              "    </tr>\n",
              "  </thead>\n",
              "  <tbody>\n",
              "    <tr>\n",
              "      <th>0</th>\n",
              "      <td>1</td>\n",
              "      <td>0</td>\n",
              "      <td>CCTCAAATCACTCTTTGGCAACGACCCCTCGTCCCAATAAGGATAG...</td>\n",
              "      <td>CCCATTAGTCCTATTGAAACTGTACCAGTAAAGCTAAAGCCAGGAA...</td>\n",
              "      <td>4.3</td>\n",
              "      <td>145</td>\n",
              "    </tr>\n",
              "    <tr>\n",
              "      <th>1</th>\n",
              "      <td>2</td>\n",
              "      <td>0</td>\n",
              "      <td>CCTCAAATCACTCTTTGGCAACGACCCCTCGTCGCAATAAAGATAG...</td>\n",
              "      <td>CCCATTAGTCCTATTGAAACTGTACCAGTAAAATTAAAGCCAGGAA...</td>\n",
              "      <td>3.6</td>\n",
              "      <td>224</td>\n",
              "    </tr>\n",
              "    <tr>\n",
              "      <th>2</th>\n",
              "      <td>3</td>\n",
              "      <td>0</td>\n",
              "      <td>CCTCAAATCACTCTTTGGCAACGACCCCTCGTCGCAATAAAGGTAG...</td>\n",
              "      <td>CCCATTAGTCCTATTGAAACTGTACCAGTAAAATTAAAGCCAGGAA...</td>\n",
              "      <td>3.2</td>\n",
              "      <td>1017</td>\n",
              "    </tr>\n",
              "    <tr>\n",
              "      <th>3</th>\n",
              "      <td>4</td>\n",
              "      <td>0</td>\n",
              "      <td>CCTCAAATCACTCTTTGGCAACGACCCCTCGTCGCAATAAGGATAG...</td>\n",
              "      <td>CCCATTAGTCCTATTGAAACTGTACCAGTAAAATTAAAGCCAGGAA...</td>\n",
              "      <td>5.7</td>\n",
              "      <td>206</td>\n",
              "    </tr>\n",
              "    <tr>\n",
              "      <th>4</th>\n",
              "      <td>5</td>\n",
              "      <td>0</td>\n",
              "      <td>CCTCAAATCACTCTTTGGCAACGACCCCTCGTCGCAGTAAAGATAG...</td>\n",
              "      <td>CCCATTAGTCCTATTGAAACTGTACCAGTAAAATTAAAGCCAGGAA...</td>\n",
              "      <td>3.5</td>\n",
              "      <td>572</td>\n",
              "    </tr>\n",
              "  </tbody>\n",
              "</table>\n",
              "</div>"
            ],
            "text/plain": [
              "   PatientID  Resp  ... VL-t0 CD4-t0\n",
              "0          1     0  ...   4.3    145\n",
              "1          2     0  ...   3.6    224\n",
              "2          3     0  ...   3.2   1017\n",
              "3          4     0  ...   5.7    206\n",
              "4          5     0  ...   3.5    572\n",
              "\n",
              "[5 rows x 6 columns]"
            ]
          },
          "metadata": {},
          "execution_count": 108
        }
      ]
    },
    {
      "cell_type": "code",
      "metadata": {
        "id": "wy2AhtvlX_9d"
      },
      "source": [
        "df_train.dropna(subset=[feature],inplace=True)"
      ],
      "execution_count": 109,
      "outputs": []
    },
    {
      "cell_type": "code",
      "metadata": {
        "id": "bCSH-MekXg2R"
      },
      "source": [
        "all_seq = ''\n",
        "for prseq in df_train[feature]:\n",
        "    all_seq+=str(prseq)\n",
        "char_index = list(set(all_seq))"
      ],
      "execution_count": 110,
      "outputs": []
    },
    {
      "cell_type": "code",
      "metadata": {
        "id": "efZCZ9Nom3Hu"
      },
      "source": [
        "char_to_int = dict((c, i) for i, c in enumerate(char_index))"
      ],
      "execution_count": 111,
      "outputs": []
    },
    {
      "cell_type": "code",
      "metadata": {
        "id": "sNCxwFnIn4gF"
      },
      "source": [
        "max_len = df_train[feature].apply(lambda x: len(str(x))).max()"
      ],
      "execution_count": 112,
      "outputs": []
    },
    {
      "cell_type": "code",
      "metadata": {
        "colab": {
          "base_uri": "https://localhost:8080/"
        },
        "id": "a320GrU3peB7",
        "outputId": "f7691f14-06a0-4547-fc0d-05a7c41a7e51"
      },
      "source": [
        "char_to_int"
      ],
      "execution_count": 113,
      "outputs": [
        {
          "output_type": "execute_result",
          "data": {
            "text/plain": [
              "{'A': 10,\n",
              " 'B': 3,\n",
              " 'C': 0,\n",
              " 'D': 12,\n",
              " 'G': 9,\n",
              " 'H': 11,\n",
              " 'K': 2,\n",
              " 'M': 8,\n",
              " 'N': 4,\n",
              " 'R': 7,\n",
              " 'S': 5,\n",
              " 'T': 1,\n",
              " 'V': 14,\n",
              " 'W': 13,\n",
              " 'Y': 6}"
            ]
          },
          "metadata": {},
          "execution_count": 113
        }
      ]
    },
    {
      "cell_type": "code",
      "metadata": {
        "id": "SKvKvR2wmzwn"
      },
      "source": [
        "def encode_sequence_list(seqs,max_len):\n",
        "    out =''\n",
        "    encoded_seqs = []\n",
        "    for seq in seqs:\n",
        "        encoded_seq = [char_to_int[c] for c in seq]\n",
        "        encoded_seqs.append(encoded_seq)\n",
        "    return pad_sequences(encoded_seqs, padding='post')\n",
        "def decode_sequence_list(seqs):\n",
        "    decoded_seqs = []\n",
        "    for seq in seqs:\n",
        "        decoded_seq = [int_to_char[i] for i in seq]\n",
        "        decoded_seqs.append(decoded_seq)\n",
        "    return decoded_seqs"
      ],
      "execution_count": 114,
      "outputs": []
    },
    {
      "cell_type": "code",
      "metadata": {
        "id": "PWroKu7dkUQo"
      },
      "source": [
        "encoded_seqs = encode_sequence_list(df_train[feature],max_len)"
      ],
      "execution_count": 115,
      "outputs": []
    },
    {
      "cell_type": "code",
      "metadata": {
        "colab": {
          "base_uri": "https://localhost:8080/"
        },
        "id": "oYdzZlFgY1Ui",
        "outputId": "728380e4-f5fc-4580-a259-683da516d6ec"
      },
      "source": [
        "encoded_seqs.shape"
      ],
      "execution_count": 116,
      "outputs": [
        {
          "output_type": "execute_result",
          "data": {
            "text/plain": [
              "(920, 1482)"
            ]
          },
          "metadata": {},
          "execution_count": 116
        }
      ]
    },
    {
      "cell_type": "code",
      "metadata": {
        "id": "hdyeVIWfYsvQ"
      },
      "source": [
        "from sklearn.preprocessing import StandardScaler, MinMaxScaler\n",
        "scaler = MinMaxScaler()\n",
        "scaled_seqs = scaler.fit_transform(encoded_seqs)\n",
        "#Create a test and train sets of our data\n",
        "X_train, X_test, y_train, y_test = train_test_split(scaled_seqs, np.array(df_train['Resp']), test_size=0.20)"
      ],
      "execution_count": 117,
      "outputs": []
    },
    {
      "cell_type": "code",
      "metadata": {
        "id": "8lG_EfafaDYr"
      },
      "source": [
        "input_dim = X_train.shape[1] # the # features\n",
        "encoding_dim = 8 # first layer\n",
        "hidden_dim = int(encoding_dim / 2) #hidden layer\n",
        "\n",
        "nb_epoch = 250\n",
        "batch_size = 64\n",
        "learning_rate = 0.1"
      ],
      "execution_count": 118,
      "outputs": []
    },
    {
      "cell_type": "code",
      "metadata": {
        "id": "w1V1NQHnYbbr"
      },
      "source": [
        "input_layer = Input(shape=(input_dim, ))\n",
        "encoder = Dense(encoding_dim, activation=\"tanh\", activity_regularizer=regularizers.l1(10e-5))(input_layer)\n",
        "encoder = Dense(hidden_dim, activation=\"relu\")(encoder)\n",
        "decoder = Dense(encoding_dim, activation='relu')(encoder)\n",
        "decoder = Dense(input_dim, activation='tanh')(decoder)\n",
        "autoencoder = Model(inputs=input_layer, outputs=decoder)"
      ],
      "execution_count": 119,
      "outputs": []
    },
    {
      "cell_type": "code",
      "metadata": {
        "id": "4U_T2QDmafEh"
      },
      "source": [
        "autoencoder.compile(optimizer='adam', \n",
        "                    loss='mean_squared_error', \n",
        "                    metrics=['accuracy'])\n",
        "\n",
        "checkpointer = ModelCheckpoint(filepath=\"model_seqs2.h5\",\n",
        "                               verbose=0,\n",
        "                               save_best_only=True)\n",
        "\n",
        "tensorboard = TensorBoard(log_dir='./logs',\n",
        "                          histogram_freq=0,\n",
        "                          write_graph=True,\n",
        "                          write_images=True)"
      ],
      "execution_count": 120,
      "outputs": []
    },
    {
      "cell_type": "code",
      "metadata": {
        "id": "cOk91H5uhzzf",
        "colab": {
          "base_uri": "https://localhost:8080/"
        },
        "outputId": "8f5fc67e-7676-4f2f-e388-99eb3457cd60"
      },
      "source": [
        "history = autoencoder.fit(X_train, X_train,\n",
        "                    epochs=nb_epoch,\n",
        "                    batch_size=batch_size,\n",
        "                    shuffle=True,\n",
        "                    validation_data=(X_test, X_test),\n",
        "                    verbose=1,\n",
        "                    callbacks=[checkpointer, tensorboard]).history"
      ],
      "execution_count": 121,
      "outputs": [
        {
          "output_type": "stream",
          "name": "stdout",
          "text": [
            "Epoch 1/250\n",
            "12/12 [==============================] - 1s 27ms/step - loss: 0.3327 - accuracy: 0.0000e+00 - val_loss: 0.3148 - val_accuracy: 0.0000e+00\n",
            "Epoch 2/250\n",
            "12/12 [==============================] - 0s 13ms/step - loss: 0.2871 - accuracy: 0.0000e+00 - val_loss: 0.2615 - val_accuracy: 0.0000e+00\n",
            "Epoch 3/250\n",
            "12/12 [==============================] - 0s 11ms/step - loss: 0.2346 - accuracy: 0.0000e+00 - val_loss: 0.2095 - val_accuracy: 0.0000e+00\n",
            "Epoch 4/250\n",
            "12/12 [==============================] - 0s 13ms/step - loss: 0.1849 - accuracy: 0.0000e+00 - val_loss: 0.1628 - val_accuracy: 0.0000e+00\n",
            "Epoch 5/250\n",
            "12/12 [==============================] - 0s 13ms/step - loss: 0.1418 - accuracy: 0.0000e+00 - val_loss: 0.1250 - val_accuracy: 0.0000e+00\n",
            "Epoch 6/250\n",
            "12/12 [==============================] - 0s 12ms/step - loss: 0.1086 - accuracy: 0.0000e+00 - val_loss: 0.0978 - val_accuracy: 0.0000e+00\n",
            "Epoch 7/250\n",
            "12/12 [==============================] - 0s 11ms/step - loss: 0.0858 - accuracy: 0.0000e+00 - val_loss: 0.0804 - val_accuracy: 0.0000e+00\n",
            "Epoch 8/250\n",
            "12/12 [==============================] - 0s 13ms/step - loss: 0.0716 - accuracy: 0.0000e+00 - val_loss: 0.0699 - val_accuracy: 0.0000e+00\n",
            "Epoch 9/250\n",
            "12/12 [==============================] - 0s 13ms/step - loss: 0.0632 - accuracy: 0.0000e+00 - val_loss: 0.0638 - val_accuracy: 0.0000e+00\n",
            "Epoch 10/250\n",
            "12/12 [==============================] - 0s 13ms/step - loss: 0.0584 - accuracy: 0.0000e+00 - val_loss: 0.0604 - val_accuracy: 0.0000e+00\n",
            "Epoch 11/250\n",
            "12/12 [==============================] - 0s 13ms/step - loss: 0.0555 - accuracy: 0.0000e+00 - val_loss: 0.0581 - val_accuracy: 0.0000e+00\n",
            "Epoch 12/250\n",
            "12/12 [==============================] - 0s 12ms/step - loss: 0.0536 - accuracy: 0.0000e+00 - val_loss: 0.0568 - val_accuracy: 0.0000e+00\n",
            "Epoch 13/250\n",
            "12/12 [==============================] - 0s 12ms/step - loss: 0.0524 - accuracy: 0.0000e+00 - val_loss: 0.0557 - val_accuracy: 0.0000e+00\n",
            "Epoch 14/250\n",
            "12/12 [==============================] - 0s 13ms/step - loss: 0.0515 - accuracy: 0.0000e+00 - val_loss: 0.0550 - val_accuracy: 0.0000e+00\n",
            "Epoch 15/250\n",
            "12/12 [==============================] - 0s 13ms/step - loss: 0.0509 - accuracy: 0.0000e+00 - val_loss: 0.0547 - val_accuracy: 0.0000e+00\n",
            "Epoch 16/250\n",
            "12/12 [==============================] - 0s 13ms/step - loss: 0.0505 - accuracy: 0.0000e+00 - val_loss: 0.0541 - val_accuracy: 0.0000e+00\n",
            "Epoch 17/250\n",
            "12/12 [==============================] - 0s 12ms/step - loss: 0.0501 - accuracy: 0.0000e+00 - val_loss: 0.0538 - val_accuracy: 0.0000e+00\n",
            "Epoch 18/250\n",
            "12/12 [==============================] - 0s 13ms/step - loss: 0.0499 - accuracy: 0.0000e+00 - val_loss: 0.0536 - val_accuracy: 0.0000e+00\n",
            "Epoch 19/250\n",
            "12/12 [==============================] - 0s 13ms/step - loss: 0.0497 - accuracy: 0.0000e+00 - val_loss: 0.0533 - val_accuracy: 0.0000e+00\n",
            "Epoch 20/250\n",
            "12/12 [==============================] - 0s 9ms/step - loss: 0.0495 - accuracy: 0.0000e+00 - val_loss: 0.0534 - val_accuracy: 0.0000e+00\n",
            "Epoch 21/250\n",
            "12/12 [==============================] - 0s 12ms/step - loss: 0.0494 - accuracy: 0.0000e+00 - val_loss: 0.0530 - val_accuracy: 0.0000e+00\n",
            "Epoch 22/250\n",
            "12/12 [==============================] - 0s 10ms/step - loss: 0.0492 - accuracy: 0.0000e+00 - val_loss: 0.0531 - val_accuracy: 0.0000e+00\n",
            "Epoch 23/250\n",
            "12/12 [==============================] - 0s 12ms/step - loss: 0.0491 - accuracy: 0.0000e+00 - val_loss: 0.0528 - val_accuracy: 0.0000e+00\n",
            "Epoch 24/250\n",
            "12/12 [==============================] - 0s 12ms/step - loss: 0.0489 - accuracy: 0.0000e+00 - val_loss: 0.0528 - val_accuracy: 0.0000e+00\n",
            "Epoch 25/250\n",
            "12/12 [==============================] - 0s 12ms/step - loss: 0.0489 - accuracy: 0.0000e+00 - val_loss: 0.0527 - val_accuracy: 0.0000e+00\n",
            "Epoch 26/250\n",
            "12/12 [==============================] - 0s 12ms/step - loss: 0.0488 - accuracy: 0.0000e+00 - val_loss: 0.0526 - val_accuracy: 0.0000e+00\n",
            "Epoch 27/250\n",
            "12/12 [==============================] - 0s 10ms/step - loss: 0.0488 - accuracy: 0.0000e+00 - val_loss: 0.0526 - val_accuracy: 0.0000e+00\n",
            "Epoch 28/250\n",
            "12/12 [==============================] - 0s 12ms/step - loss: 0.0487 - accuracy: 0.0000e+00 - val_loss: 0.0525 - val_accuracy: 0.0000e+00\n",
            "Epoch 29/250\n",
            "12/12 [==============================] - 0s 13ms/step - loss: 0.0486 - accuracy: 0.0000e+00 - val_loss: 0.0522 - val_accuracy: 0.0000e+00\n",
            "Epoch 30/250\n",
            "12/12 [==============================] - 0s 12ms/step - loss: 0.0483 - accuracy: 0.0000e+00 - val_loss: 0.0511 - val_accuracy: 0.0000e+00\n",
            "Epoch 31/250\n",
            "12/12 [==============================] - 0s 13ms/step - loss: 0.0469 - accuracy: 0.0000e+00 - val_loss: 0.0500 - val_accuracy: 0.0000e+00\n",
            "Epoch 32/250\n",
            "12/12 [==============================] - 0s 12ms/step - loss: 0.0463 - accuracy: 0.0000e+00 - val_loss: 0.0497 - val_accuracy: 0.0000e+00\n",
            "Epoch 33/250\n",
            "12/12 [==============================] - 0s 12ms/step - loss: 0.0460 - accuracy: 0.0000e+00 - val_loss: 0.0492 - val_accuracy: 0.0000e+00\n",
            "Epoch 34/250\n",
            "12/12 [==============================] - 0s 12ms/step - loss: 0.0456 - accuracy: 0.0000e+00 - val_loss: 0.0488 - val_accuracy: 0.0000e+00\n",
            "Epoch 35/250\n",
            "12/12 [==============================] - 0s 13ms/step - loss: 0.0452 - accuracy: 0.0000e+00 - val_loss: 0.0480 - val_accuracy: 0.0000e+00\n",
            "Epoch 36/250\n",
            "12/12 [==============================] - 0s 13ms/step - loss: 0.0444 - accuracy: 0.0000e+00 - val_loss: 0.0470 - val_accuracy: 0.0000e+00\n",
            "Epoch 37/250\n",
            "12/12 [==============================] - 0s 12ms/step - loss: 0.0435 - accuracy: 0.0000e+00 - val_loss: 0.0461 - val_accuracy: 0.0000e+00\n",
            "Epoch 38/250\n",
            "12/12 [==============================] - 0s 13ms/step - loss: 0.0427 - accuracy: 0.0000e+00 - val_loss: 0.0448 - val_accuracy: 0.0000e+00\n",
            "Epoch 39/250\n",
            "12/12 [==============================] - 0s 13ms/step - loss: 0.0411 - accuracy: 0.0000e+00 - val_loss: 0.0420 - val_accuracy: 0.0000e+00\n",
            "Epoch 40/250\n",
            "12/12 [==============================] - 0s 13ms/step - loss: 0.0379 - accuracy: 0.0000e+00 - val_loss: 0.0385 - val_accuracy: 0.0000e+00\n",
            "Epoch 41/250\n",
            "12/12 [==============================] - 0s 13ms/step - loss: 0.0348 - accuracy: 0.0000e+00 - val_loss: 0.0349 - val_accuracy: 0.0000e+00\n",
            "Epoch 42/250\n",
            "12/12 [==============================] - 0s 12ms/step - loss: 0.0314 - accuracy: 0.0000e+00 - val_loss: 0.0311 - val_accuracy: 0.0000e+00\n",
            "Epoch 43/250\n",
            "12/12 [==============================] - 0s 13ms/step - loss: 0.0282 - accuracy: 0.0000e+00 - val_loss: 0.0276 - val_accuracy: 0.0000e+00\n",
            "Epoch 44/250\n",
            "12/12 [==============================] - 0s 13ms/step - loss: 0.0257 - accuracy: 0.0000e+00 - val_loss: 0.0256 - val_accuracy: 0.0000e+00\n",
            "Epoch 45/250\n",
            "12/12 [==============================] - 0s 13ms/step - loss: 0.0239 - accuracy: 0.0000e+00 - val_loss: 0.0239 - val_accuracy: 0.0000e+00\n",
            "Epoch 46/250\n",
            "12/12 [==============================] - 0s 13ms/step - loss: 0.0225 - accuracy: 0.0000e+00 - val_loss: 0.0227 - val_accuracy: 0.0000e+00\n",
            "Epoch 47/250\n",
            "12/12 [==============================] - 0s 13ms/step - loss: 0.0216 - accuracy: 0.0000e+00 - val_loss: 0.0216 - val_accuracy: 0.0000e+00\n",
            "Epoch 48/250\n",
            "12/12 [==============================] - 0s 12ms/step - loss: 0.0207 - accuracy: 0.0000e+00 - val_loss: 0.0208 - val_accuracy: 0.0000e+00\n",
            "Epoch 49/250\n",
            "12/12 [==============================] - 0s 14ms/step - loss: 0.0200 - accuracy: 0.0000e+00 - val_loss: 0.0202 - val_accuracy: 0.0000e+00\n",
            "Epoch 50/250\n",
            "12/12 [==============================] - 0s 13ms/step - loss: 0.0194 - accuracy: 0.0000e+00 - val_loss: 0.0196 - val_accuracy: 0.0000e+00\n",
            "Epoch 51/250\n",
            "12/12 [==============================] - 0s 13ms/step - loss: 0.0188 - accuracy: 0.0000e+00 - val_loss: 0.0190 - val_accuracy: 0.0000e+00\n",
            "Epoch 52/250\n",
            "12/12 [==============================] - 0s 13ms/step - loss: 0.0182 - accuracy: 0.0000e+00 - val_loss: 0.0184 - val_accuracy: 0.0000e+00\n",
            "Epoch 53/250\n",
            "12/12 [==============================] - 0s 13ms/step - loss: 0.0176 - accuracy: 0.0000e+00 - val_loss: 0.0179 - val_accuracy: 0.0000e+00\n",
            "Epoch 54/250\n",
            "12/12 [==============================] - 0s 12ms/step - loss: 0.0170 - accuracy: 0.0000e+00 - val_loss: 0.0173 - val_accuracy: 0.0000e+00\n",
            "Epoch 55/250\n",
            "12/12 [==============================] - 0s 14ms/step - loss: 0.0165 - accuracy: 0.0000e+00 - val_loss: 0.0168 - val_accuracy: 0.0000e+00\n",
            "Epoch 56/250\n",
            "12/12 [==============================] - 0s 13ms/step - loss: 0.0160 - accuracy: 0.0000e+00 - val_loss: 0.0163 - val_accuracy: 0.0000e+00\n",
            "Epoch 57/250\n",
            "12/12 [==============================] - 0s 12ms/step - loss: 0.0155 - accuracy: 0.0000e+00 - val_loss: 0.0159 - val_accuracy: 0.0000e+00\n",
            "Epoch 58/250\n",
            "12/12 [==============================] - 0s 13ms/step - loss: 0.0151 - accuracy: 0.0000e+00 - val_loss: 0.0155 - val_accuracy: 0.0000e+00\n",
            "Epoch 59/250\n",
            "12/12 [==============================] - 0s 13ms/step - loss: 0.0147 - accuracy: 0.0000e+00 - val_loss: 0.0152 - val_accuracy: 0.0000e+00\n",
            "Epoch 60/250\n",
            "12/12 [==============================] - 0s 13ms/step - loss: 0.0144 - accuracy: 0.0000e+00 - val_loss: 0.0148 - val_accuracy: 0.0000e+00\n",
            "Epoch 61/250\n",
            "12/12 [==============================] - 0s 12ms/step - loss: 0.0141 - accuracy: 0.0000e+00 - val_loss: 0.0145 - val_accuracy: 0.0000e+00\n",
            "Epoch 62/250\n",
            "12/12 [==============================] - 0s 13ms/step - loss: 0.0139 - accuracy: 0.0000e+00 - val_loss: 0.0144 - val_accuracy: 0.0000e+00\n",
            "Epoch 63/250\n",
            "12/12 [==============================] - 0s 12ms/step - loss: 0.0136 - accuracy: 0.0000e+00 - val_loss: 0.0142 - val_accuracy: 0.0000e+00\n",
            "Epoch 64/250\n",
            "12/12 [==============================] - 0s 13ms/step - loss: 0.0134 - accuracy: 0.0000e+00 - val_loss: 0.0139 - val_accuracy: 0.0000e+00\n",
            "Epoch 65/250\n",
            "12/12 [==============================] - 0s 13ms/step - loss: 0.0132 - accuracy: 0.0000e+00 - val_loss: 0.0138 - val_accuracy: 0.0000e+00\n",
            "Epoch 66/250\n",
            "12/12 [==============================] - 0s 13ms/step - loss: 0.0130 - accuracy: 0.0000e+00 - val_loss: 0.0136 - val_accuracy: 0.0000e+00\n",
            "Epoch 67/250\n",
            "12/12 [==============================] - 0s 14ms/step - loss: 0.0128 - accuracy: 0.0000e+00 - val_loss: 0.0134 - val_accuracy: 0.0000e+00\n",
            "Epoch 68/250\n",
            "12/12 [==============================] - 0s 15ms/step - loss: 0.0127 - accuracy: 0.0000e+00 - val_loss: 0.0133 - val_accuracy: 0.0000e+00\n",
            "Epoch 69/250\n",
            "12/12 [==============================] - 0s 13ms/step - loss: 0.0125 - accuracy: 0.0000e+00 - val_loss: 0.0132 - val_accuracy: 0.0000e+00\n",
            "Epoch 70/250\n",
            "12/12 [==============================] - 0s 13ms/step - loss: 0.0124 - accuracy: 0.0000e+00 - val_loss: 0.0130 - val_accuracy: 0.0000e+00\n",
            "Epoch 71/250\n",
            "12/12 [==============================] - 0s 13ms/step - loss: 0.0123 - accuracy: 0.0000e+00 - val_loss: 0.0128 - val_accuracy: 0.0000e+00\n",
            "Epoch 72/250\n",
            "12/12 [==============================] - 0s 13ms/step - loss: 0.0121 - accuracy: 0.0000e+00 - val_loss: 0.0126 - val_accuracy: 0.0000e+00\n",
            "Epoch 73/250\n",
            "12/12 [==============================] - 0s 13ms/step - loss: 0.0120 - accuracy: 0.0000e+00 - val_loss: 0.0125 - val_accuracy: 0.0000e+00\n",
            "Epoch 74/250\n",
            "12/12 [==============================] - 0s 12ms/step - loss: 0.0119 - accuracy: 0.0000e+00 - val_loss: 0.0125 - val_accuracy: 0.0000e+00\n",
            "Epoch 75/250\n",
            "12/12 [==============================] - 0s 14ms/step - loss: 0.0118 - accuracy: 0.0000e+00 - val_loss: 0.0124 - val_accuracy: 0.0000e+00\n",
            "Epoch 76/250\n",
            "12/12 [==============================] - 0s 12ms/step - loss: 0.0117 - accuracy: 0.0000e+00 - val_loss: 0.0123 - val_accuracy: 0.0000e+00\n",
            "Epoch 77/250\n",
            "12/12 [==============================] - 0s 14ms/step - loss: 0.0116 - accuracy: 0.0000e+00 - val_loss: 0.0122 - val_accuracy: 0.0000e+00\n",
            "Epoch 78/250\n",
            "12/12 [==============================] - 0s 13ms/step - loss: 0.0116 - accuracy: 0.0000e+00 - val_loss: 0.0121 - val_accuracy: 0.0000e+00\n",
            "Epoch 79/250\n",
            "12/12 [==============================] - 0s 13ms/step - loss: 0.0115 - accuracy: 0.0000e+00 - val_loss: 0.0120 - val_accuracy: 0.0000e+00\n",
            "Epoch 80/250\n",
            "12/12 [==============================] - 0s 13ms/step - loss: 0.0114 - accuracy: 0.0000e+00 - val_loss: 0.0120 - val_accuracy: 0.0000e+00\n",
            "Epoch 81/250\n",
            "12/12 [==============================] - 0s 14ms/step - loss: 0.0114 - accuracy: 0.0000e+00 - val_loss: 0.0119 - val_accuracy: 0.0000e+00\n",
            "Epoch 82/250\n",
            "12/12 [==============================] - 0s 14ms/step - loss: 0.0113 - accuracy: 0.0000e+00 - val_loss: 0.0119 - val_accuracy: 0.0000e+00\n",
            "Epoch 83/250\n",
            "12/12 [==============================] - 0s 13ms/step - loss: 0.0112 - accuracy: 0.0000e+00 - val_loss: 0.0117 - val_accuracy: 0.0000e+00\n",
            "Epoch 84/250\n",
            "12/12 [==============================] - 0s 12ms/step - loss: 0.0111 - accuracy: 0.0000e+00 - val_loss: 0.0116 - val_accuracy: 0.0000e+00\n",
            "Epoch 85/250\n",
            "12/12 [==============================] - 0s 12ms/step - loss: 0.0109 - accuracy: 0.0000e+00 - val_loss: 0.0113 - val_accuracy: 0.0000e+00\n",
            "Epoch 86/250\n",
            "12/12 [==============================] - 0s 13ms/step - loss: 0.0105 - accuracy: 0.0000e+00 - val_loss: 0.0110 - val_accuracy: 0.0000e+00\n",
            "Epoch 87/250\n",
            "12/12 [==============================] - 0s 13ms/step - loss: 0.0102 - accuracy: 0.0000e+00 - val_loss: 0.0108 - val_accuracy: 0.0000e+00\n",
            "Epoch 88/250\n",
            "12/12 [==============================] - 0s 14ms/step - loss: 0.0100 - accuracy: 0.0000e+00 - val_loss: 0.0106 - val_accuracy: 0.0000e+00\n",
            "Epoch 89/250\n",
            "12/12 [==============================] - 0s 10ms/step - loss: 0.0099 - accuracy: 0.0000e+00 - val_loss: 0.0106 - val_accuracy: 0.0000e+00\n",
            "Epoch 90/250\n",
            "12/12 [==============================] - 0s 13ms/step - loss: 0.0097 - accuracy: 0.0000e+00 - val_loss: 0.0103 - val_accuracy: 0.0000e+00\n",
            "Epoch 91/250\n",
            "12/12 [==============================] - 0s 13ms/step - loss: 0.0096 - accuracy: 0.0000e+00 - val_loss: 0.0102 - val_accuracy: 0.0000e+00\n",
            "Epoch 92/250\n",
            "12/12 [==============================] - 0s 12ms/step - loss: 0.0095 - accuracy: 0.0000e+00 - val_loss: 0.0101 - val_accuracy: 0.0000e+00\n",
            "Epoch 93/250\n",
            "12/12 [==============================] - 0s 13ms/step - loss: 0.0094 - accuracy: 0.0000e+00 - val_loss: 0.0100 - val_accuracy: 0.0000e+00\n",
            "Epoch 94/250\n",
            "12/12 [==============================] - 0s 14ms/step - loss: 0.0093 - accuracy: 0.0000e+00 - val_loss: 0.0100 - val_accuracy: 0.0000e+00\n",
            "Epoch 95/250\n",
            "12/12 [==============================] - 0s 12ms/step - loss: 0.0093 - accuracy: 0.0000e+00 - val_loss: 0.0099 - val_accuracy: 0.0000e+00\n",
            "Epoch 96/250\n",
            "12/12 [==============================] - 0s 13ms/step - loss: 0.0092 - accuracy: 0.0000e+00 - val_loss: 0.0099 - val_accuracy: 0.0000e+00\n",
            "Epoch 97/250\n",
            "12/12 [==============================] - 0s 13ms/step - loss: 0.0092 - accuracy: 0.0000e+00 - val_loss: 0.0099 - val_accuracy: 0.0000e+00\n",
            "Epoch 98/250\n",
            "12/12 [==============================] - 0s 12ms/step - loss: 0.0091 - accuracy: 0.0000e+00 - val_loss: 0.0098 - val_accuracy: 0.0000e+00\n",
            "Epoch 99/250\n",
            "12/12 [==============================] - 0s 12ms/step - loss: 0.0091 - accuracy: 0.0000e+00 - val_loss: 0.0098 - val_accuracy: 0.0000e+00\n",
            "Epoch 100/250\n",
            "12/12 [==============================] - 0s 13ms/step - loss: 0.0091 - accuracy: 0.0000e+00 - val_loss: 0.0098 - val_accuracy: 0.0000e+00\n",
            "Epoch 101/250\n",
            "12/12 [==============================] - 0s 15ms/step - loss: 0.0090 - accuracy: 0.0000e+00 - val_loss: 0.0097 - val_accuracy: 0.0000e+00\n",
            "Epoch 102/250\n",
            "12/12 [==============================] - 0s 12ms/step - loss: 0.0090 - accuracy: 0.0000e+00 - val_loss: 0.0097 - val_accuracy: 0.0000e+00\n",
            "Epoch 103/250\n",
            "12/12 [==============================] - 0s 13ms/step - loss: 0.0090 - accuracy: 0.0000e+00 - val_loss: 0.0097 - val_accuracy: 0.0000e+00\n",
            "Epoch 104/250\n",
            "12/12 [==============================] - 0s 11ms/step - loss: 0.0090 - accuracy: 0.0000e+00 - val_loss: 0.0096 - val_accuracy: 0.0000e+00\n",
            "Epoch 105/250\n",
            "12/12 [==============================] - 0s 13ms/step - loss: 0.0089 - accuracy: 0.0000e+00 - val_loss: 0.0096 - val_accuracy: 0.0000e+00\n",
            "Epoch 106/250\n",
            "12/12 [==============================] - 0s 13ms/step - loss: 0.0089 - accuracy: 0.0000e+00 - val_loss: 0.0096 - val_accuracy: 0.0000e+00\n",
            "Epoch 107/250\n",
            "12/12 [==============================] - 0s 13ms/step - loss: 0.0089 - accuracy: 0.0000e+00 - val_loss: 0.0096 - val_accuracy: 0.0000e+00\n",
            "Epoch 108/250\n",
            "12/12 [==============================] - 0s 12ms/step - loss: 0.0089 - accuracy: 0.0000e+00 - val_loss: 0.0095 - val_accuracy: 0.0000e+00\n",
            "Epoch 109/250\n",
            "12/12 [==============================] - 0s 10ms/step - loss: 0.0089 - accuracy: 0.0000e+00 - val_loss: 0.0096 - val_accuracy: 0.0000e+00\n",
            "Epoch 110/250\n",
            "12/12 [==============================] - 0s 10ms/step - loss: 0.0089 - accuracy: 0.0000e+00 - val_loss: 0.0096 - val_accuracy: 0.0000e+00\n",
            "Epoch 111/250\n",
            "12/12 [==============================] - 0s 13ms/step - loss: 0.0089 - accuracy: 0.0000e+00 - val_loss: 0.0095 - val_accuracy: 0.0000e+00\n",
            "Epoch 112/250\n",
            "12/12 [==============================] - 0s 14ms/step - loss: 0.0088 - accuracy: 0.0000e+00 - val_loss: 0.0095 - val_accuracy: 0.0000e+00\n",
            "Epoch 113/250\n",
            "12/12 [==============================] - 0s 10ms/step - loss: 0.0088 - accuracy: 0.0000e+00 - val_loss: 0.0095 - val_accuracy: 0.0000e+00\n",
            "Epoch 114/250\n",
            "12/12 [==============================] - 0s 13ms/step - loss: 0.0088 - accuracy: 0.0000e+00 - val_loss: 0.0094 - val_accuracy: 0.0000e+00\n",
            "Epoch 115/250\n",
            "12/12 [==============================] - 0s 13ms/step - loss: 0.0088 - accuracy: 0.0000e+00 - val_loss: 0.0094 - val_accuracy: 0.0000e+00\n",
            "Epoch 116/250\n",
            "12/12 [==============================] - 0s 13ms/step - loss: 0.0087 - accuracy: 0.0000e+00 - val_loss: 0.0094 - val_accuracy: 0.0000e+00\n",
            "Epoch 117/250\n",
            "12/12 [==============================] - 0s 13ms/step - loss: 0.0087 - accuracy: 0.0000e+00 - val_loss: 0.0094 - val_accuracy: 0.0000e+00\n",
            "Epoch 118/250\n",
            "12/12 [==============================] - 0s 9ms/step - loss: 0.0087 - accuracy: 0.0000e+00 - val_loss: 0.0094 - val_accuracy: 0.0000e+00\n",
            "Epoch 119/250\n",
            "12/12 [==============================] - 0s 13ms/step - loss: 0.0087 - accuracy: 0.0000e+00 - val_loss: 0.0093 - val_accuracy: 0.0000e+00\n",
            "Epoch 120/250\n",
            "12/12 [==============================] - 0s 10ms/step - loss: 0.0087 - accuracy: 0.0000e+00 - val_loss: 0.0094 - val_accuracy: 0.0000e+00\n",
            "Epoch 121/250\n",
            "12/12 [==============================] - 0s 13ms/step - loss: 0.0087 - accuracy: 0.0000e+00 - val_loss: 0.0093 - val_accuracy: 0.0000e+00\n",
            "Epoch 122/250\n",
            "12/12 [==============================] - 0s 12ms/step - loss: 0.0087 - accuracy: 0.0000e+00 - val_loss: 0.0093 - val_accuracy: 0.0000e+00\n",
            "Epoch 123/250\n",
            "12/12 [==============================] - 0s 13ms/step - loss: 0.0087 - accuracy: 0.0000e+00 - val_loss: 0.0093 - val_accuracy: 0.0000e+00\n",
            "Epoch 124/250\n",
            "12/12 [==============================] - 0s 10ms/step - loss: 0.0086 - accuracy: 0.0000e+00 - val_loss: 0.0093 - val_accuracy: 0.0000e+00\n",
            "Epoch 125/250\n",
            "12/12 [==============================] - 0s 9ms/step - loss: 0.0086 - accuracy: 0.0000e+00 - val_loss: 0.0093 - val_accuracy: 0.0000e+00\n",
            "Epoch 126/250\n",
            "12/12 [==============================] - 0s 12ms/step - loss: 0.0086 - accuracy: 0.0000e+00 - val_loss: 0.0093 - val_accuracy: 0.0000e+00\n",
            "Epoch 127/250\n",
            "12/12 [==============================] - 0s 9ms/step - loss: 0.0086 - accuracy: 0.0000e+00 - val_loss: 0.0093 - val_accuracy: 0.0000e+00\n",
            "Epoch 128/250\n",
            "12/12 [==============================] - 0s 10ms/step - loss: 0.0086 - accuracy: 0.0000e+00 - val_loss: 0.0093 - val_accuracy: 0.0000e+00\n",
            "Epoch 129/250\n",
            "12/12 [==============================] - 0s 11ms/step - loss: 0.0086 - accuracy: 0.0000e+00 - val_loss: 0.0093 - val_accuracy: 0.0000e+00\n",
            "Epoch 130/250\n",
            "12/12 [==============================] - 0s 9ms/step - loss: 0.0086 - accuracy: 0.0000e+00 - val_loss: 0.0093 - val_accuracy: 0.0000e+00\n",
            "Epoch 131/250\n",
            "12/12 [==============================] - 0s 11ms/step - loss: 0.0086 - accuracy: 0.0000e+00 - val_loss: 0.0093 - val_accuracy: 0.0000e+00\n",
            "Epoch 132/250\n",
            "12/12 [==============================] - 0s 10ms/step - loss: 0.0086 - accuracy: 0.0000e+00 - val_loss: 0.0093 - val_accuracy: 0.0000e+00\n",
            "Epoch 133/250\n",
            "12/12 [==============================] - 0s 9ms/step - loss: 0.0086 - accuracy: 0.0000e+00 - val_loss: 0.0093 - val_accuracy: 0.0000e+00\n",
            "Epoch 134/250\n",
            "12/12 [==============================] - 0s 9ms/step - loss: 0.0086 - accuracy: 0.0000e+00 - val_loss: 0.0093 - val_accuracy: 0.0000e+00\n",
            "Epoch 135/250\n",
            "12/12 [==============================] - 0s 17ms/step - loss: 0.0086 - accuracy: 0.0000e+00 - val_loss: 0.0093 - val_accuracy: 0.0000e+00\n",
            "Epoch 136/250\n",
            "12/12 [==============================] - 0s 10ms/step - loss: 0.0086 - accuracy: 0.0000e+00 - val_loss: 0.0093 - val_accuracy: 0.0000e+00\n",
            "Epoch 137/250\n",
            "12/12 [==============================] - 0s 9ms/step - loss: 0.0085 - accuracy: 0.0000e+00 - val_loss: 0.0093 - val_accuracy: 0.0000e+00\n",
            "Epoch 138/250\n",
            "12/12 [==============================] - 0s 10ms/step - loss: 0.0085 - accuracy: 0.0000e+00 - val_loss: 0.0093 - val_accuracy: 0.0000e+00\n",
            "Epoch 139/250\n",
            "12/12 [==============================] - 0s 10ms/step - loss: 0.0085 - accuracy: 0.0000e+00 - val_loss: 0.0093 - val_accuracy: 0.0000e+00\n",
            "Epoch 140/250\n",
            "12/12 [==============================] - 0s 12ms/step - loss: 0.0085 - accuracy: 0.0000e+00 - val_loss: 0.0092 - val_accuracy: 0.0000e+00\n",
            "Epoch 141/250\n",
            "12/12 [==============================] - 0s 9ms/step - loss: 0.0085 - accuracy: 0.0000e+00 - val_loss: 0.0093 - val_accuracy: 0.0000e+00\n",
            "Epoch 142/250\n",
            "12/12 [==============================] - 0s 13ms/step - loss: 0.0085 - accuracy: 0.0000e+00 - val_loss: 0.0092 - val_accuracy: 0.0000e+00\n",
            "Epoch 143/250\n",
            "12/12 [==============================] - 0s 13ms/step - loss: 0.0085 - accuracy: 0.0000e+00 - val_loss: 0.0092 - val_accuracy: 0.0000e+00\n",
            "Epoch 144/250\n",
            "12/12 [==============================] - 0s 11ms/step - loss: 0.0085 - accuracy: 0.0000e+00 - val_loss: 0.0092 - val_accuracy: 0.0000e+00\n",
            "Epoch 145/250\n",
            "12/12 [==============================] - 0s 9ms/step - loss: 0.0085 - accuracy: 0.0000e+00 - val_loss: 0.0092 - val_accuracy: 0.0000e+00\n",
            "Epoch 146/250\n",
            "12/12 [==============================] - 0s 9ms/step - loss: 0.0085 - accuracy: 0.0000e+00 - val_loss: 0.0092 - val_accuracy: 0.0000e+00\n",
            "Epoch 147/250\n",
            "12/12 [==============================] - 0s 12ms/step - loss: 0.0085 - accuracy: 0.0000e+00 - val_loss: 0.0092 - val_accuracy: 0.0000e+00\n",
            "Epoch 148/250\n",
            "12/12 [==============================] - 0s 13ms/step - loss: 0.0085 - accuracy: 0.0000e+00 - val_loss: 0.0091 - val_accuracy: 0.0000e+00\n",
            "Epoch 149/250\n",
            "12/12 [==============================] - 0s 12ms/step - loss: 0.0085 - accuracy: 0.0000e+00 - val_loss: 0.0091 - val_accuracy: 0.0000e+00\n",
            "Epoch 150/250\n",
            "12/12 [==============================] - 0s 9ms/step - loss: 0.0085 - accuracy: 0.0000e+00 - val_loss: 0.0091 - val_accuracy: 0.0000e+00\n",
            "Epoch 151/250\n",
            "12/12 [==============================] - 0s 10ms/step - loss: 0.0085 - accuracy: 0.0000e+00 - val_loss: 0.0092 - val_accuracy: 0.0000e+00\n",
            "Epoch 152/250\n",
            "12/12 [==============================] - 0s 10ms/step - loss: 0.0084 - accuracy: 0.0000e+00 - val_loss: 0.0092 - val_accuracy: 0.0000e+00\n",
            "Epoch 153/250\n",
            "12/12 [==============================] - 0s 9ms/step - loss: 0.0084 - accuracy: 0.0000e+00 - val_loss: 0.0092 - val_accuracy: 0.0000e+00\n",
            "Epoch 154/250\n",
            "12/12 [==============================] - 0s 12ms/step - loss: 0.0084 - accuracy: 0.0000e+00 - val_loss: 0.0091 - val_accuracy: 0.0000e+00\n",
            "Epoch 155/250\n",
            "12/12 [==============================] - 0s 10ms/step - loss: 0.0084 - accuracy: 0.0000e+00 - val_loss: 0.0091 - val_accuracy: 0.0000e+00\n",
            "Epoch 156/250\n",
            "12/12 [==============================] - 0s 9ms/step - loss: 0.0084 - accuracy: 0.0000e+00 - val_loss: 0.0091 - val_accuracy: 0.0000e+00\n",
            "Epoch 157/250\n",
            "12/12 [==============================] - 0s 10ms/step - loss: 0.0084 - accuracy: 0.0000e+00 - val_loss: 0.0091 - val_accuracy: 0.0000e+00\n",
            "Epoch 158/250\n",
            "12/12 [==============================] - 0s 10ms/step - loss: 0.0084 - accuracy: 0.0000e+00 - val_loss: 0.0091 - val_accuracy: 0.0000e+00\n",
            "Epoch 159/250\n",
            "12/12 [==============================] - 0s 17ms/step - loss: 0.0084 - accuracy: 0.0000e+00 - val_loss: 0.0091 - val_accuracy: 0.0000e+00\n",
            "Epoch 160/250\n",
            "12/12 [==============================] - 0s 11ms/step - loss: 0.0084 - accuracy: 0.0000e+00 - val_loss: 0.0091 - val_accuracy: 0.0000e+00\n",
            "Epoch 161/250\n",
            "12/12 [==============================] - 0s 10ms/step - loss: 0.0084 - accuracy: 0.0000e+00 - val_loss: 0.0091 - val_accuracy: 0.0000e+00\n",
            "Epoch 162/250\n",
            "12/12 [==============================] - 0s 10ms/step - loss: 0.0084 - accuracy: 0.0000e+00 - val_loss: 0.0091 - val_accuracy: 0.0000e+00\n",
            "Epoch 163/250\n",
            "12/12 [==============================] - 0s 10ms/step - loss: 0.0084 - accuracy: 0.0000e+00 - val_loss: 0.0091 - val_accuracy: 0.0000e+00\n",
            "Epoch 164/250\n",
            "12/12 [==============================] - 0s 10ms/step - loss: 0.0084 - accuracy: 0.0000e+00 - val_loss: 0.0091 - val_accuracy: 0.0000e+00\n",
            "Epoch 165/250\n",
            "12/12 [==============================] - 0s 13ms/step - loss: 0.0084 - accuracy: 0.0000e+00 - val_loss: 0.0091 - val_accuracy: 0.0000e+00\n",
            "Epoch 166/250\n",
            "12/12 [==============================] - 0s 13ms/step - loss: 0.0084 - accuracy: 0.0000e+00 - val_loss: 0.0090 - val_accuracy: 0.0000e+00\n",
            "Epoch 167/250\n",
            "12/12 [==============================] - 0s 13ms/step - loss: 0.0084 - accuracy: 0.0000e+00 - val_loss: 0.0090 - val_accuracy: 0.0000e+00\n",
            "Epoch 168/250\n",
            "12/12 [==============================] - 0s 11ms/step - loss: 0.0084 - accuracy: 0.0000e+00 - val_loss: 0.0091 - val_accuracy: 0.0000e+00\n",
            "Epoch 169/250\n",
            "12/12 [==============================] - 0s 10ms/step - loss: 0.0084 - accuracy: 0.0000e+00 - val_loss: 0.0090 - val_accuracy: 0.0000e+00\n",
            "Epoch 170/250\n",
            "12/12 [==============================] - 0s 10ms/step - loss: 0.0084 - accuracy: 0.0000e+00 - val_loss: 0.0090 - val_accuracy: 0.0000e+00\n",
            "Epoch 171/250\n",
            "12/12 [==============================] - 0s 11ms/step - loss: 0.0084 - accuracy: 0.0000e+00 - val_loss: 0.0090 - val_accuracy: 0.0000e+00\n",
            "Epoch 172/250\n",
            "12/12 [==============================] - 0s 14ms/step - loss: 0.0083 - accuracy: 0.0000e+00 - val_loss: 0.0090 - val_accuracy: 0.0000e+00\n",
            "Epoch 173/250\n",
            "12/12 [==============================] - 0s 11ms/step - loss: 0.0083 - accuracy: 0.0000e+00 - val_loss: 0.0091 - val_accuracy: 0.0000e+00\n",
            "Epoch 174/250\n",
            "12/12 [==============================] - 0s 9ms/step - loss: 0.0083 - accuracy: 0.0000e+00 - val_loss: 0.0091 - val_accuracy: 0.0000e+00\n",
            "Epoch 175/250\n",
            "12/12 [==============================] - 0s 10ms/step - loss: 0.0083 - accuracy: 0.0000e+00 - val_loss: 0.0090 - val_accuracy: 0.0000e+00\n",
            "Epoch 176/250\n",
            "12/12 [==============================] - 0s 13ms/step - loss: 0.0083 - accuracy: 0.0000e+00 - val_loss: 0.0090 - val_accuracy: 0.0000e+00\n",
            "Epoch 177/250\n",
            "12/12 [==============================] - 0s 10ms/step - loss: 0.0083 - accuracy: 0.0000e+00 - val_loss: 0.0090 - val_accuracy: 0.0000e+00\n",
            "Epoch 178/250\n",
            "12/12 [==============================] - 0s 10ms/step - loss: 0.0083 - accuracy: 0.0000e+00 - val_loss: 0.0090 - val_accuracy: 0.0000e+00\n",
            "Epoch 179/250\n",
            "12/12 [==============================] - 0s 14ms/step - loss: 0.0083 - accuracy: 0.0000e+00 - val_loss: 0.0090 - val_accuracy: 0.0000e+00\n",
            "Epoch 180/250\n",
            "12/12 [==============================] - 0s 10ms/step - loss: 0.0083 - accuracy: 0.0000e+00 - val_loss: 0.0090 - val_accuracy: 0.0000e+00\n",
            "Epoch 181/250\n",
            "12/12 [==============================] - 0s 11ms/step - loss: 0.0083 - accuracy: 0.0000e+00 - val_loss: 0.0090 - val_accuracy: 0.0000e+00\n",
            "Epoch 182/250\n",
            "12/12 [==============================] - 0s 14ms/step - loss: 0.0083 - accuracy: 0.0000e+00 - val_loss: 0.0090 - val_accuracy: 0.0000e+00\n",
            "Epoch 183/250\n",
            "12/12 [==============================] - 0s 10ms/step - loss: 0.0083 - accuracy: 0.0000e+00 - val_loss: 0.0090 - val_accuracy: 0.0000e+00\n",
            "Epoch 184/250\n",
            "12/12 [==============================] - 0s 13ms/step - loss: 0.0083 - accuracy: 0.0000e+00 - val_loss: 0.0090 - val_accuracy: 0.0000e+00\n",
            "Epoch 185/250\n",
            "12/12 [==============================] - 0s 14ms/step - loss: 0.0083 - accuracy: 0.0000e+00 - val_loss: 0.0090 - val_accuracy: 0.0000e+00\n",
            "Epoch 186/250\n",
            "12/12 [==============================] - 0s 10ms/step - loss: 0.0083 - accuracy: 0.0000e+00 - val_loss: 0.0090 - val_accuracy: 0.0000e+00\n",
            "Epoch 187/250\n",
            "12/12 [==============================] - 0s 10ms/step - loss: 0.0083 - accuracy: 0.0000e+00 - val_loss: 0.0090 - val_accuracy: 0.0000e+00\n",
            "Epoch 188/250\n",
            "12/12 [==============================] - 0s 11ms/step - loss: 0.0083 - accuracy: 0.0000e+00 - val_loss: 0.0090 - val_accuracy: 0.0000e+00\n",
            "Epoch 189/250\n",
            "12/12 [==============================] - 0s 10ms/step - loss: 0.0083 - accuracy: 0.0000e+00 - val_loss: 0.0090 - val_accuracy: 0.0000e+00\n",
            "Epoch 190/250\n",
            "12/12 [==============================] - 0s 10ms/step - loss: 0.0083 - accuracy: 0.0000e+00 - val_loss: 0.0091 - val_accuracy: 0.0000e+00\n",
            "Epoch 191/250\n",
            "12/12 [==============================] - 0s 10ms/step - loss: 0.0083 - accuracy: 0.0000e+00 - val_loss: 0.0090 - val_accuracy: 0.0000e+00\n",
            "Epoch 192/250\n",
            "12/12 [==============================] - 0s 10ms/step - loss: 0.0083 - accuracy: 0.0000e+00 - val_loss: 0.0091 - val_accuracy: 0.0000e+00\n",
            "Epoch 193/250\n",
            "12/12 [==============================] - 0s 10ms/step - loss: 0.0083 - accuracy: 0.0000e+00 - val_loss: 0.0090 - val_accuracy: 0.0000e+00\n",
            "Epoch 194/250\n",
            "12/12 [==============================] - 0s 11ms/step - loss: 0.0083 - accuracy: 0.0000e+00 - val_loss: 0.0090 - val_accuracy: 0.0000e+00\n",
            "Epoch 195/250\n",
            "12/12 [==============================] - 0s 10ms/step - loss: 0.0083 - accuracy: 0.0000e+00 - val_loss: 0.0090 - val_accuracy: 0.0000e+00\n",
            "Epoch 196/250\n",
            "12/12 [==============================] - 0s 11ms/step - loss: 0.0082 - accuracy: 0.0000e+00 - val_loss: 0.0090 - val_accuracy: 0.0000e+00\n",
            "Epoch 197/250\n",
            "12/12 [==============================] - 0s 11ms/step - loss: 0.0082 - accuracy: 0.0000e+00 - val_loss: 0.0090 - val_accuracy: 0.0000e+00\n",
            "Epoch 198/250\n",
            "12/12 [==============================] - 0s 11ms/step - loss: 0.0082 - accuracy: 0.0000e+00 - val_loss: 0.0090 - val_accuracy: 0.0000e+00\n",
            "Epoch 199/250\n",
            "12/12 [==============================] - 0s 10ms/step - loss: 0.0082 - accuracy: 0.0000e+00 - val_loss: 0.0090 - val_accuracy: 0.0000e+00\n",
            "Epoch 200/250\n",
            "12/12 [==============================] - 0s 10ms/step - loss: 0.0082 - accuracy: 0.0000e+00 - val_loss: 0.0090 - val_accuracy: 0.0000e+00\n",
            "Epoch 201/250\n",
            "12/12 [==============================] - 0s 11ms/step - loss: 0.0082 - accuracy: 0.0000e+00 - val_loss: 0.0090 - val_accuracy: 0.0000e+00\n",
            "Epoch 202/250\n",
            "12/12 [==============================] - 0s 13ms/step - loss: 0.0082 - accuracy: 0.0000e+00 - val_loss: 0.0089 - val_accuracy: 0.0000e+00\n",
            "Epoch 203/250\n",
            "12/12 [==============================] - 0s 11ms/step - loss: 0.0082 - accuracy: 0.0000e+00 - val_loss: 0.0090 - val_accuracy: 0.0000e+00\n",
            "Epoch 204/250\n",
            "12/12 [==============================] - 0s 11ms/step - loss: 0.0082 - accuracy: 0.0000e+00 - val_loss: 0.0090 - val_accuracy: 0.0000e+00\n",
            "Epoch 205/250\n",
            "12/12 [==============================] - 0s 10ms/step - loss: 0.0082 - accuracy: 0.0000e+00 - val_loss: 0.0090 - val_accuracy: 0.0000e+00\n",
            "Epoch 206/250\n",
            "12/12 [==============================] - 0s 11ms/step - loss: 0.0082 - accuracy: 0.0000e+00 - val_loss: 0.0090 - val_accuracy: 0.0000e+00\n",
            "Epoch 207/250\n",
            "12/12 [==============================] - 0s 10ms/step - loss: 0.0082 - accuracy: 0.0000e+00 - val_loss: 0.0090 - val_accuracy: 0.0000e+00\n",
            "Epoch 208/250\n",
            "12/12 [==============================] - 0s 12ms/step - loss: 0.0082 - accuracy: 0.0000e+00 - val_loss: 0.0090 - val_accuracy: 0.0000e+00\n",
            "Epoch 209/250\n",
            "12/12 [==============================] - 0s 10ms/step - loss: 0.0082 - accuracy: 0.0000e+00 - val_loss: 0.0090 - val_accuracy: 0.0000e+00\n",
            "Epoch 210/250\n",
            "12/12 [==============================] - 0s 10ms/step - loss: 0.0082 - accuracy: 0.0000e+00 - val_loss: 0.0090 - val_accuracy: 0.0000e+00\n",
            "Epoch 211/250\n",
            "12/12 [==============================] - 0s 12ms/step - loss: 0.0082 - accuracy: 0.0000e+00 - val_loss: 0.0090 - val_accuracy: 0.0000e+00\n",
            "Epoch 212/250\n",
            "12/12 [==============================] - 0s 10ms/step - loss: 0.0083 - accuracy: 0.0000e+00 - val_loss: 0.0092 - val_accuracy: 0.0000e+00\n",
            "Epoch 213/250\n",
            "12/12 [==============================] - 0s 10ms/step - loss: 0.0083 - accuracy: 0.0000e+00 - val_loss: 0.0090 - val_accuracy: 0.0000e+00\n",
            "Epoch 214/250\n",
            "12/12 [==============================] - 0s 10ms/step - loss: 0.0082 - accuracy: 0.0000e+00 - val_loss: 0.0090 - val_accuracy: 0.0000e+00\n",
            "Epoch 215/250\n",
            "12/12 [==============================] - 0s 10ms/step - loss: 0.0082 - accuracy: 0.0000e+00 - val_loss: 0.0090 - val_accuracy: 0.0000e+00\n",
            "Epoch 216/250\n",
            "12/12 [==============================] - 0s 11ms/step - loss: 0.0082 - accuracy: 0.0000e+00 - val_loss: 0.0090 - val_accuracy: 0.0000e+00\n",
            "Epoch 217/250\n",
            "12/12 [==============================] - 0s 10ms/step - loss: 0.0082 - accuracy: 0.0000e+00 - val_loss: 0.0090 - val_accuracy: 0.0000e+00\n",
            "Epoch 218/250\n",
            "12/12 [==============================] - 0s 10ms/step - loss: 0.0082 - accuracy: 0.0000e+00 - val_loss: 0.0090 - val_accuracy: 0.0000e+00\n",
            "Epoch 219/250\n",
            "12/12 [==============================] - 0s 10ms/step - loss: 0.0082 - accuracy: 0.0000e+00 - val_loss: 0.0090 - val_accuracy: 0.0000e+00\n",
            "Epoch 220/250\n",
            "12/12 [==============================] - 0s 10ms/step - loss: 0.0082 - accuracy: 0.0000e+00 - val_loss: 0.0090 - val_accuracy: 0.0000e+00\n",
            "Epoch 221/250\n",
            "12/12 [==============================] - 0s 11ms/step - loss: 0.0082 - accuracy: 0.0000e+00 - val_loss: 0.0090 - val_accuracy: 0.0000e+00\n",
            "Epoch 222/250\n",
            "12/12 [==============================] - 0s 11ms/step - loss: 0.0082 - accuracy: 0.0000e+00 - val_loss: 0.0090 - val_accuracy: 0.0000e+00\n",
            "Epoch 223/250\n",
            "12/12 [==============================] - 0s 14ms/step - loss: 0.0082 - accuracy: 0.0000e+00 - val_loss: 0.0089 - val_accuracy: 0.0000e+00\n",
            "Epoch 224/250\n",
            "12/12 [==============================] - 0s 12ms/step - loss: 0.0081 - accuracy: 0.0000e+00 - val_loss: 0.0089 - val_accuracy: 0.0000e+00\n",
            "Epoch 225/250\n",
            "12/12 [==============================] - 0s 10ms/step - loss: 0.0082 - accuracy: 0.0000e+00 - val_loss: 0.0090 - val_accuracy: 0.0000e+00\n",
            "Epoch 226/250\n",
            "12/12 [==============================] - 0s 10ms/step - loss: 0.0082 - accuracy: 0.0000e+00 - val_loss: 0.0090 - val_accuracy: 0.0000e+00\n",
            "Epoch 227/250\n",
            "12/12 [==============================] - 0s 13ms/step - loss: 0.0081 - accuracy: 0.0000e+00 - val_loss: 0.0089 - val_accuracy: 0.0000e+00\n",
            "Epoch 228/250\n",
            "12/12 [==============================] - 0s 13ms/step - loss: 0.0081 - accuracy: 0.0000e+00 - val_loss: 0.0089 - val_accuracy: 0.0000e+00\n",
            "Epoch 229/250\n",
            "12/12 [==============================] - 0s 13ms/step - loss: 0.0081 - accuracy: 0.0000e+00 - val_loss: 0.0089 - val_accuracy: 0.0000e+00\n",
            "Epoch 230/250\n",
            "12/12 [==============================] - 0s 13ms/step - loss: 0.0081 - accuracy: 0.0000e+00 - val_loss: 0.0089 - val_accuracy: 0.0000e+00\n",
            "Epoch 231/250\n",
            "12/12 [==============================] - 0s 10ms/step - loss: 0.0081 - accuracy: 0.0000e+00 - val_loss: 0.0089 - val_accuracy: 0.0000e+00\n",
            "Epoch 232/250\n",
            "12/12 [==============================] - 0s 14ms/step - loss: 0.0081 - accuracy: 0.0000e+00 - val_loss: 0.0089 - val_accuracy: 0.0000e+00\n",
            "Epoch 233/250\n",
            "12/12 [==============================] - 0s 10ms/step - loss: 0.0081 - accuracy: 0.0000e+00 - val_loss: 0.0089 - val_accuracy: 0.0000e+00\n",
            "Epoch 234/250\n",
            "12/12 [==============================] - 0s 13ms/step - loss: 0.0081 - accuracy: 0.0000e+00 - val_loss: 0.0089 - val_accuracy: 0.0000e+00\n",
            "Epoch 235/250\n",
            "12/12 [==============================] - 0s 10ms/step - loss: 0.0081 - accuracy: 0.0000e+00 - val_loss: 0.0090 - val_accuracy: 0.0000e+00\n",
            "Epoch 236/250\n",
            "12/12 [==============================] - 0s 11ms/step - loss: 0.0082 - accuracy: 0.0000e+00 - val_loss: 0.0090 - val_accuracy: 0.0000e+00\n",
            "Epoch 237/250\n",
            "12/12 [==============================] - 0s 11ms/step - loss: 0.0081 - accuracy: 0.0000e+00 - val_loss: 0.0089 - val_accuracy: 0.0000e+00\n",
            "Epoch 238/250\n",
            "12/12 [==============================] - 0s 10ms/step - loss: 0.0081 - accuracy: 0.0000e+00 - val_loss: 0.0089 - val_accuracy: 0.0000e+00\n",
            "Epoch 239/250\n",
            "12/12 [==============================] - 0s 10ms/step - loss: 0.0081 - accuracy: 0.0000e+00 - val_loss: 0.0089 - val_accuracy: 0.0000e+00\n",
            "Epoch 240/250\n",
            "12/12 [==============================] - 0s 13ms/step - loss: 0.0081 - accuracy: 0.0000e+00 - val_loss: 0.0089 - val_accuracy: 0.0000e+00\n",
            "Epoch 241/250\n",
            "12/12 [==============================] - 0s 14ms/step - loss: 0.0081 - accuracy: 0.0000e+00 - val_loss: 0.0089 - val_accuracy: 0.0000e+00\n",
            "Epoch 242/250\n",
            "12/12 [==============================] - 0s 10ms/step - loss: 0.0081 - accuracy: 0.0000e+00 - val_loss: 0.0089 - val_accuracy: 0.0000e+00\n",
            "Epoch 243/250\n",
            "12/12 [==============================] - 0s 13ms/step - loss: 0.0081 - accuracy: 0.0000e+00 - val_loss: 0.0088 - val_accuracy: 0.0000e+00\n",
            "Epoch 244/250\n",
            "12/12 [==============================] - 0s 10ms/step - loss: 0.0082 - accuracy: 0.0000e+00 - val_loss: 0.0089 - val_accuracy: 0.0000e+00\n",
            "Epoch 245/250\n",
            "12/12 [==============================] - 0s 10ms/step - loss: 0.0082 - accuracy: 0.0000e+00 - val_loss: 0.0089 - val_accuracy: 0.0000e+00\n",
            "Epoch 246/250\n",
            "12/12 [==============================] - 0s 15ms/step - loss: 0.0081 - accuracy: 0.0000e+00 - val_loss: 0.0088 - val_accuracy: 0.0000e+00\n",
            "Epoch 247/250\n",
            "12/12 [==============================] - 0s 12ms/step - loss: 0.0081 - accuracy: 0.0000e+00 - val_loss: 0.0088 - val_accuracy: 0.0000e+00\n",
            "Epoch 248/250\n",
            "12/12 [==============================] - 0s 14ms/step - loss: 0.0081 - accuracy: 0.0000e+00 - val_loss: 0.0088 - val_accuracy: 0.0000e+00\n",
            "Epoch 249/250\n",
            "12/12 [==============================] - 0s 10ms/step - loss: 0.0081 - accuracy: 0.0000e+00 - val_loss: 0.0088 - val_accuracy: 0.0000e+00\n",
            "Epoch 250/250\n",
            "12/12 [==============================] - 0s 11ms/step - loss: 0.0081 - accuracy: 0.0000e+00 - val_loss: 0.0088 - val_accuracy: 0.0000e+00\n"
          ]
        }
      ]
    },
    {
      "cell_type": "code",
      "metadata": {
        "colab": {
          "base_uri": "https://localhost:8080/",
          "height": 295
        },
        "id": "_xBpA9CLaGYS",
        "outputId": "cdb6a362-ea1d-48ea-f5b7-2e5829f8ea63"
      },
      "source": [
        "plt.plot(history['loss'])\n",
        "plt.plot(history['val_loss'])\n",
        "plt.title('Autoencoder model loss')\n",
        "plt.ylabel('loss')\n",
        "plt.xlabel('epoch')\n",
        "plt.legend(['train', 'test'], loc='upper right');"
      ],
      "execution_count": 122,
      "outputs": [
        {
          "output_type": "display_data",
          "data": {
            "image/png": "[encoded data removed]",
            "text/plain": [
              "<Figure size 432x288 with 1 Axes>"
            ]
          },
          "metadata": {
            "needs_background": "light"
          }
        }
      ]
    },
    {
      "cell_type": "code",
      "metadata": {
        "id": "WxzOu_w6dvai"
      },
      "source": [
        "prseq = df_train[[feature,'Resp']]"
      ],
      "execution_count": 123,
      "outputs": []
    },
    {
      "cell_type": "code",
      "metadata": {
        "colab": {
          "base_uri": "https://localhost:8080/"
        },
        "id": "yuEnON6bc1Bz",
        "outputId": "393c4a6c-2254-4e26-eafa-3bfd29933978"
      },
      "source": [
        "#encode all the data\n",
        "encoded_seqs = encode_sequence_list(prseq[feature],297)\n",
        "#scale it\n",
        "scaled_data = MinMaxScaler().fit_transform(encoded_seqs)\n",
        "#predict it\n",
        "predicted = autoencoder.predict(scaled_data)\n",
        "#get the error term\n",
        "mse = np.mean(np.power(scaled_data - predicted, 2), axis=1)\n",
        "#now add them to our data frame\n",
        "prseq['MSE'] = mse"
      ],
      "execution_count": 124,
      "outputs": [
        {
          "output_type": "stream",
          "name": "stderr",
          "text": [
            "/usr/local/lib/python3.7/dist-packages/ipykernel_launcher.py:10: SettingWithCopyWarning: \n",
            "A value is trying to be set on a copy of a slice from a DataFrame.\n",
            "Try using .loc[row_indexer,col_indexer] = value instead\n",
            "\n",
            "See the caveats in the documentation: https://pandas.pydata.org/pandas-docs/stable/user_guide/indexing.html#returning-a-view-versus-a-copy\n",
            "  # Remove the CWD from sys.path while we load stuff.\n"
          ]
        }
      ]
    },
    {
      "cell_type": "code",
      "metadata": {
        "colab": {
          "base_uri": "https://localhost:8080/",
          "height": 423
        },
        "id": "ebv8EArod2g-",
        "outputId": "f4ad40e6-0c82-4bed-ed08-60a96070cf43"
      },
      "source": [
        "prseq"
      ],
      "execution_count": 125,
      "outputs": [
        {
          "output_type": "execute_result",
          "data": {
            "text/html": [
              "<div>\n",
              "<style scoped>\n",
              "    .dataframe tbody tr th:only-of-type {\n",
              "        vertical-align: middle;\n",
              "    }\n",
              "\n",
              "    .dataframe tbody tr th {\n",
              "        vertical-align: top;\n",
              "    }\n",
              "\n",
              "    .dataframe thead th {\n",
              "        text-align: right;\n",
              "    }\n",
              "</style>\n",
              "<table border=\"1\" class=\"dataframe\">\n",
              "  <thead>\n",
              "    <tr style=\"text-align: right;\">\n",
              "      <th></th>\n",
              "      <th>RT Seq</th>\n",
              "      <th>Resp</th>\n",
              "      <th>MSE</th>\n",
              "    </tr>\n",
              "  </thead>\n",
              "  <tbody>\n",
              "    <tr>\n",
              "      <th>0</th>\n",
              "      <td>CCCATTAGTCCTATTGAAACTGTACCAGTAAAGCTAAAGCCAGGAA...</td>\n",
              "      <td>0</td>\n",
              "      <td>0.004934</td>\n",
              "    </tr>\n",
              "    <tr>\n",
              "      <th>1</th>\n",
              "      <td>CCCATTAGTCCTATTGAAACTGTACCAGTAAAATTAAAGCCAGGAA...</td>\n",
              "      <td>0</td>\n",
              "      <td>0.004722</td>\n",
              "    </tr>\n",
              "    <tr>\n",
              "      <th>2</th>\n",
              "      <td>CCCATTAGTCCTATTGAAACTGTACCAGTAAAATTAAAGCCAGGAA...</td>\n",
              "      <td>0</td>\n",
              "      <td>0.003537</td>\n",
              "    </tr>\n",
              "    <tr>\n",
              "      <th>3</th>\n",
              "      <td>CCCATTAGTCCTATTGAAACTGTACCAGTAAAATTAAAGCCAGGAA...</td>\n",
              "      <td>0</td>\n",
              "      <td>0.009538</td>\n",
              "    </tr>\n",
              "    <tr>\n",
              "      <th>4</th>\n",
              "      <td>CCCATTAGTCCTATTGAAACTGTACCAGTAAAATTAAAGCCAGGAA...</td>\n",
              "      <td>0</td>\n",
              "      <td>0.003682</td>\n",
              "    </tr>\n",
              "    <tr>\n",
              "      <th>...</th>\n",
              "      <td>...</td>\n",
              "      <td>...</td>\n",
              "      <td>...</td>\n",
              "    </tr>\n",
              "    <tr>\n",
              "      <th>915</th>\n",
              "      <td>CCCATTAGTCCTATTGAAACTGTACCAGTAAAATTAAAACCAGGAA...</td>\n",
              "      <td>0</td>\n",
              "      <td>0.006178</td>\n",
              "    </tr>\n",
              "    <tr>\n",
              "      <th>916</th>\n",
              "      <td>CCCATTAGTCCTATTGAAACTGTACCAGTAAAATTAAAACCAGGAA...</td>\n",
              "      <td>0</td>\n",
              "      <td>0.005483</td>\n",
              "    </tr>\n",
              "    <tr>\n",
              "      <th>917</th>\n",
              "      <td>CCCATTAGTCCTATTAAAACTGTACCAGTAAAATTAAAGCCAGGAA...</td>\n",
              "      <td>0</td>\n",
              "      <td>0.011560</td>\n",
              "    </tr>\n",
              "    <tr>\n",
              "      <th>918</th>\n",
              "      <td>CCCATTAGTCCTATTGAAACTGTACCAGTAAAATTAAAACCGGGAA...</td>\n",
              "      <td>1</td>\n",
              "      <td>0.004824</td>\n",
              "    </tr>\n",
              "    <tr>\n",
              "      <th>919</th>\n",
              "      <td>CCCATTAGTCCTATTGARACTGTACCAGTAAAATTAAASCCAGGAA...</td>\n",
              "      <td>1</td>\n",
              "      <td>0.010589</td>\n",
              "    </tr>\n",
              "  </tbody>\n",
              "</table>\n",
              "<p>920 rows × 3 columns</p>\n",
              "</div>"
            ],
            "text/plain": [
              "                                                RT Seq  Resp       MSE\n",
              "0    CCCATTAGTCCTATTGAAACTGTACCAGTAAAGCTAAAGCCAGGAA...     0  0.004934\n",
              "1    CCCATTAGTCCTATTGAAACTGTACCAGTAAAATTAAAGCCAGGAA...     0  0.004722\n",
              "2    CCCATTAGTCCTATTGAAACTGTACCAGTAAAATTAAAGCCAGGAA...     0  0.003537\n",
              "3    CCCATTAGTCCTATTGAAACTGTACCAGTAAAATTAAAGCCAGGAA...     0  0.009538\n",
              "4    CCCATTAGTCCTATTGAAACTGTACCAGTAAAATTAAAGCCAGGAA...     0  0.003682\n",
              "..                                                 ...   ...       ...\n",
              "915  CCCATTAGTCCTATTGAAACTGTACCAGTAAAATTAAAACCAGGAA...     0  0.006178\n",
              "916  CCCATTAGTCCTATTGAAACTGTACCAGTAAAATTAAAACCAGGAA...     0  0.005483\n",
              "917  CCCATTAGTCCTATTAAAACTGTACCAGTAAAATTAAAGCCAGGAA...     0  0.011560\n",
              "918  CCCATTAGTCCTATTGAAACTGTACCAGTAAAATTAAAACCGGGAA...     1  0.004824\n",
              "919  CCCATTAGTCCTATTGARACTGTACCAGTAAAATTAAASCCAGGAA...     1  0.010589\n",
              "\n",
              "[920 rows x 3 columns]"
            ]
          },
          "metadata": {},
          "execution_count": 125
        }
      ]
    },
    {
      "cell_type": "code",
      "metadata": {
        "colab": {
          "base_uri": "https://localhost:8080/"
        },
        "id": "fltWnzSreKFH",
        "outputId": "700ab797-d596-44a6-deeb-1fc5c57b5f5b"
      },
      "source": [
        "prseq.groupby('Resp')['MSE'].median()"
      ],
      "execution_count": 126,
      "outputs": [
        {
          "output_type": "execute_result",
          "data": {
            "text/plain": [
              "Resp\n",
              "0    0.005565\n",
              "1    0.007337\n",
              "Name: MSE, dtype: float64"
            ]
          },
          "metadata": {},
          "execution_count": 126
        }
      ]
    },
    {
      "cell_type": "code",
      "metadata": {
        "id": "FXESQUhnsS2v"
      },
      "source": [
        "predicted = autoencoder.predict(X_test)\n",
        "#get the error term\n",
        "mse = np.mean(np.power(X_test - predicted, 2), axis=1)\n",
        "#now add them to our data frame\n",
        "y_pred = mse > 0.004"
      ],
      "execution_count": 127,
      "outputs": []
    },
    {
      "cell_type": "code",
      "metadata": {
        "colab": {
          "base_uri": "https://localhost:8080/"
        },
        "id": "f3F9xqGXqlPn",
        "outputId": "2488015d-1f97-4834-e90b-2cafe5aa60eb"
      },
      "source": [
        "confusion_matrix(y_test, y_pred)"
      ],
      "execution_count": 128,
      "outputs": [
        {
          "output_type": "execute_result",
          "data": {
            "text/plain": [
              "array([[ 35, 107],\n",
              "       [  3,  39]])"
            ]
          },
          "metadata": {},
          "execution_count": 128
        }
      ]
    },
    {
      "cell_type": "code",
      "metadata": {
        "colab": {
          "base_uri": "https://localhost:8080/"
        },
        "id": "5DpPpPAN07Wx",
        "outputId": "fa96e8f4-d5b6-485c-c934-4471445d8690"
      },
      "source": [
        "(95+31)/len(y_test)"
      ],
      "execution_count": 129,
      "outputs": [
        {
          "output_type": "execute_result",
          "data": {
            "text/plain": [
              "0.6847826086956522"
            ]
          },
          "metadata": {},
          "execution_count": 129
        }
      ]
    },
    {
      "cell_type": "markdown",
      "metadata": {
        "id": "LNlHrptlfKKs"
      },
      "source": [
        "# XGBoost"
      ]
    },
    {
      "cell_type": "code",
      "metadata": {
        "colab": {
          "base_uri": "https://localhost:8080/"
        },
        "id": "a6eTsQjCgETV",
        "outputId": "c93ba2ec-027a-4df5-fad4-528c2cc484af"
      },
      "source": [
        "pip install XGBoost"
      ],
      "execution_count": 130,
      "outputs": [
        {
          "output_type": "stream",
          "name": "stdout",
          "text": [
            "Requirement already satisfied: XGBoost in /usr/local/lib/python3.7/dist-packages (0.90)\n",
            "Requirement already satisfied: scipy in /usr/local/lib/python3.7/dist-packages (from XGBoost) (1.4.1)\n",
            "Requirement already satisfied: numpy in /usr/local/lib/python3.7/dist-packages (from XGBoost) (1.19.5)\n"
          ]
        }
      ]
    },
    {
      "cell_type": "code",
      "metadata": {
        "id": "V1FKUN_KgGMm"
      },
      "source": [
        "import xgboost as xgb"
      ],
      "execution_count": 131,
      "outputs": []
    },
    {
      "cell_type": "code",
      "metadata": {
        "id": "QmugiYUX7HHF"
      },
      "source": [
        "df_train.dropna(inplace=True)"
      ],
      "execution_count": 132,
      "outputs": []
    },
    {
      "cell_type": "code",
      "metadata": {
        "id": "ilqJEgy08UG5"
      },
      "source": [
        "def splitpad(txt,padlen):\n",
        "    out=[]\n",
        "    for c in txt:\n",
        "        out.append(c)\n",
        "    out.extend([0]*padlen-len(out))\n",
        "    return out"
      ],
      "execution_count": 133,
      "outputs": []
    },
    {
      "cell_type": "code",
      "metadata": {
        "id": "yonExIII7Ihd"
      },
      "source": [
        "pr_seq = pd.DataFrame()\n",
        "for i in range(length):\n",
        "    pr_seq[i] = df_train[feature]"
      ],
      "execution_count": 134,
      "outputs": []
    },
    {
      "cell_type": "code",
      "metadata": {
        "id": "WbxMMlC26yLu"
      },
      "source": [
        "X_train, X_test, y_train, y_test = train_test_split(scaled_seqs, np.array(df_train['Resp']), test_size=0.20)"
      ],
      "execution_count": 135,
      "outputs": []
    },
    {
      "cell_type": "code",
      "metadata": {
        "id": "ymd_K5p7gI6I",
        "colab": {
          "base_uri": "https://localhost:8080/"
        },
        "outputId": "dc5aad6f-6351-42a2-c2cb-88526d5bd17d"
      },
      "source": [
        "xgb_classifier = xgb.XGBClassifier(learning_rate = 0.1, max_depth = 5, alpha = 10, n_estimators = 10)\n",
        "xgb_classifier.fit(X_train,y_train)"
      ],
      "execution_count": 136,
      "outputs": [
        {
          "output_type": "execute_result",
          "data": {
            "text/plain": [
              "XGBClassifier(alpha=10, max_depth=5, n_estimators=10)"
            ]
          },
          "metadata": {},
          "execution_count": 136
        }
      ]
    },
    {
      "cell_type": "code",
      "metadata": {
        "id": "lZ9jDrjV6xIS"
      },
      "source": [
        "y_pred = xgb_classifier.predict(X_test)"
      ],
      "execution_count": 137,
      "outputs": []
    },
    {
      "cell_type": "code",
      "metadata": {
        "colab": {
          "base_uri": "https://localhost:8080/"
        },
        "id": "H07MuviKtDP4",
        "outputId": "7d7abb38-909a-42fc-a8f3-742b23ff94cb"
      },
      "source": [
        "confusion_matrix(y_test, y_pred)"
      ],
      "execution_count": 138,
      "outputs": [
        {
          "output_type": "execute_result",
          "data": {
            "text/plain": [
              "array([[140,   4],\n",
              "       [ 29,  11]])"
            ]
          },
          "metadata": {},
          "execution_count": 138
        }
      ]
    },
    {
      "cell_type": "markdown",
      "metadata": {
        "id": "OROYASXg9J_j"
      },
      "source": [
        "#explore"
      ]
    },
    {
      "cell_type": "code",
      "metadata": {
        "id": "pnQ_ZSaJMeAM"
      },
      "source": [
        "from pdb import set_trace"
      ],
      "execution_count": 139,
      "outputs": []
    },
    {
      "cell_type": "code",
      "metadata": {
        "colab": {
          "base_uri": "https://localhost:8080/"
        },
        "id": "0azYjYjkOmC5",
        "outputId": "b2016059-bf3d-46fd-f8a1-f1e0f21a8123"
      },
      "source": [
        "!pip install XGBoost\n",
        "import xgboost as xgb"
      ],
      "execution_count": 140,
      "outputs": [
        {
          "output_type": "stream",
          "name": "stdout",
          "text": [
            "Requirement already satisfied: XGBoost in /usr/local/lib/python3.7/dist-packages (0.90)\n",
            "Requirement already satisfied: numpy in /usr/local/lib/python3.7/dist-packages (from XGBoost) (1.19.5)\n",
            "Requirement already satisfied: scipy in /usr/local/lib/python3.7/dist-packages (from XGBoost) (1.4.1)\n"
          ]
        }
      ]
    },
    {
      "cell_type": "code",
      "metadata": {
        "id": "umRTKIhd9LH-"
      },
      "source": [
        "def splitpad(txt,padlen):\n",
        "    out = []\n",
        "    for c in txt:\n",
        "        out.append(c)\n",
        "    out.extend([0]*(padlen-len(out)))\n",
        "    return out"
      ],
      "execution_count": 141,
      "outputs": []
    },
    {
      "cell_type": "code",
      "metadata": {
        "id": "lGzbKokZM27Y"
      },
      "source": [
        "df_train.dropna(subset=[feature],inplace=True)"
      ],
      "execution_count": 142,
      "outputs": []
    },
    {
      "cell_type": "code",
      "metadata": {
        "id": "jACU0Z8XUKr_"
      },
      "source": [
        "# get the longest sequence length\n",
        "length = max(df_train[feature].apply(lambda x : len(x)))"
      ],
      "execution_count": 143,
      "outputs": []
    },
    {
      "cell_type": "code",
      "metadata": {
        "id": "ujl9fGdA9Vm1"
      },
      "source": [
        "seqs = np.array([splitpad(seq,length) for seq in df_train[feature]])"
      ],
      "execution_count": 144,
      "outputs": []
    },
    {
      "cell_type": "code",
      "metadata": {
        "colab": {
          "base_uri": "https://localhost:8080/",
          "height": 255
        },
        "id": "d_rtMKD29nPo",
        "outputId": "921f8a40-6b2b-4487-e7a7-c6e6df7f8a3f"
      },
      "source": [
        "df = pd.DataFrame()\n",
        "for i in range(length):\n",
        "    df[i] = seqs[:,i]\n",
        "df['resp'] = df_train['Resp']\n",
        "df.head()"
      ],
      "execution_count": 145,
      "outputs": [
        {
          "output_type": "execute_result",
          "data": {
            "text/html": [
              "<div>\n",
              "<style scoped>\n",
              "    .dataframe tbody tr th:only-of-type {\n",
              "        vertical-align: middle;\n",
              "    }\n",
              "\n",
              "    .dataframe tbody tr th {\n",
              "        vertical-align: top;\n",
              "    }\n",
              "\n",
              "    .dataframe thead th {\n",
              "        text-align: right;\n",
              "    }\n",
              "</style>\n",
              "<table border=\"1\" class=\"dataframe\">\n",
              "  <thead>\n",
              "    <tr style=\"text-align: right;\">\n",
              "      <th></th>\n",
              "      <th>0</th>\n",
              "      <th>1</th>\n",
              "      <th>2</th>\n",
              "      <th>3</th>\n",
              "      <th>4</th>\n",
              "      <th>5</th>\n",
              "      <th>6</th>\n",
              "      <th>7</th>\n",
              "      <th>8</th>\n",
              "      <th>9</th>\n",
              "      <th>10</th>\n",
              "      <th>11</th>\n",
              "      <th>12</th>\n",
              "      <th>13</th>\n",
              "      <th>14</th>\n",
              "      <th>15</th>\n",
              "      <th>16</th>\n",
              "      <th>17</th>\n",
              "      <th>18</th>\n",
              "      <th>19</th>\n",
              "      <th>20</th>\n",
              "      <th>21</th>\n",
              "      <th>22</th>\n",
              "      <th>23</th>\n",
              "      <th>24</th>\n",
              "      <th>25</th>\n",
              "      <th>26</th>\n",
              "      <th>27</th>\n",
              "      <th>28</th>\n",
              "      <th>29</th>\n",
              "      <th>30</th>\n",
              "      <th>31</th>\n",
              "      <th>32</th>\n",
              "      <th>33</th>\n",
              "      <th>34</th>\n",
              "      <th>35</th>\n",
              "      <th>36</th>\n",
              "      <th>37</th>\n",
              "      <th>38</th>\n",
              "      <th>39</th>\n",
              "      <th>...</th>\n",
              "      <th>1443</th>\n",
              "      <th>1444</th>\n",
              "      <th>1445</th>\n",
              "      <th>1446</th>\n",
              "      <th>1447</th>\n",
              "      <th>1448</th>\n",
              "      <th>1449</th>\n",
              "      <th>1450</th>\n",
              "      <th>1451</th>\n",
              "      <th>1452</th>\n",
              "      <th>1453</th>\n",
              "      <th>1454</th>\n",
              "      <th>1455</th>\n",
              "      <th>1456</th>\n",
              "      <th>1457</th>\n",
              "      <th>1458</th>\n",
              "      <th>1459</th>\n",
              "      <th>1460</th>\n",
              "      <th>1461</th>\n",
              "      <th>1462</th>\n",
              "      <th>1463</th>\n",
              "      <th>1464</th>\n",
              "      <th>1465</th>\n",
              "      <th>1466</th>\n",
              "      <th>1467</th>\n",
              "      <th>1468</th>\n",
              "      <th>1469</th>\n",
              "      <th>1470</th>\n",
              "      <th>1471</th>\n",
              "      <th>1472</th>\n",
              "      <th>1473</th>\n",
              "      <th>1474</th>\n",
              "      <th>1475</th>\n",
              "      <th>1476</th>\n",
              "      <th>1477</th>\n",
              "      <th>1478</th>\n",
              "      <th>1479</th>\n",
              "      <th>1480</th>\n",
              "      <th>1481</th>\n",
              "      <th>resp</th>\n",
              "    </tr>\n",
              "  </thead>\n",
              "  <tbody>\n",
              "    <tr>\n",
              "      <th>0</th>\n",
              "      <td>C</td>\n",
              "      <td>C</td>\n",
              "      <td>C</td>\n",
              "      <td>A</td>\n",
              "      <td>T</td>\n",
              "      <td>T</td>\n",
              "      <td>A</td>\n",
              "      <td>G</td>\n",
              "      <td>T</td>\n",
              "      <td>C</td>\n",
              "      <td>C</td>\n",
              "      <td>T</td>\n",
              "      <td>A</td>\n",
              "      <td>T</td>\n",
              "      <td>T</td>\n",
              "      <td>G</td>\n",
              "      <td>A</td>\n",
              "      <td>A</td>\n",
              "      <td>A</td>\n",
              "      <td>C</td>\n",
              "      <td>T</td>\n",
              "      <td>G</td>\n",
              "      <td>T</td>\n",
              "      <td>A</td>\n",
              "      <td>C</td>\n",
              "      <td>C</td>\n",
              "      <td>A</td>\n",
              "      <td>G</td>\n",
              "      <td>T</td>\n",
              "      <td>A</td>\n",
              "      <td>A</td>\n",
              "      <td>A</td>\n",
              "      <td>G</td>\n",
              "      <td>C</td>\n",
              "      <td>T</td>\n",
              "      <td>A</td>\n",
              "      <td>A</td>\n",
              "      <td>A</td>\n",
              "      <td>G</td>\n",
              "      <td>C</td>\n",
              "      <td>...</td>\n",
              "      <td>0</td>\n",
              "      <td>0</td>\n",
              "      <td>0</td>\n",
              "      <td>0</td>\n",
              "      <td>0</td>\n",
              "      <td>0</td>\n",
              "      <td>0</td>\n",
              "      <td>0</td>\n",
              "      <td>0</td>\n",
              "      <td>0</td>\n",
              "      <td>0</td>\n",
              "      <td>0</td>\n",
              "      <td>0</td>\n",
              "      <td>0</td>\n",
              "      <td>0</td>\n",
              "      <td>0</td>\n",
              "      <td>0</td>\n",
              "      <td>0</td>\n",
              "      <td>0</td>\n",
              "      <td>0</td>\n",
              "      <td>0</td>\n",
              "      <td>0</td>\n",
              "      <td>0</td>\n",
              "      <td>0</td>\n",
              "      <td>0</td>\n",
              "      <td>0</td>\n",
              "      <td>0</td>\n",
              "      <td>0</td>\n",
              "      <td>0</td>\n",
              "      <td>0</td>\n",
              "      <td>0</td>\n",
              "      <td>0</td>\n",
              "      <td>0</td>\n",
              "      <td>0</td>\n",
              "      <td>0</td>\n",
              "      <td>0</td>\n",
              "      <td>0</td>\n",
              "      <td>0</td>\n",
              "      <td>0</td>\n",
              "      <td>0</td>\n",
              "    </tr>\n",
              "    <tr>\n",
              "      <th>1</th>\n",
              "      <td>C</td>\n",
              "      <td>C</td>\n",
              "      <td>C</td>\n",
              "      <td>A</td>\n",
              "      <td>T</td>\n",
              "      <td>T</td>\n",
              "      <td>A</td>\n",
              "      <td>G</td>\n",
              "      <td>T</td>\n",
              "      <td>C</td>\n",
              "      <td>C</td>\n",
              "      <td>T</td>\n",
              "      <td>A</td>\n",
              "      <td>T</td>\n",
              "      <td>T</td>\n",
              "      <td>G</td>\n",
              "      <td>A</td>\n",
              "      <td>A</td>\n",
              "      <td>A</td>\n",
              "      <td>C</td>\n",
              "      <td>T</td>\n",
              "      <td>G</td>\n",
              "      <td>T</td>\n",
              "      <td>A</td>\n",
              "      <td>C</td>\n",
              "      <td>C</td>\n",
              "      <td>A</td>\n",
              "      <td>G</td>\n",
              "      <td>T</td>\n",
              "      <td>A</td>\n",
              "      <td>A</td>\n",
              "      <td>A</td>\n",
              "      <td>A</td>\n",
              "      <td>T</td>\n",
              "      <td>T</td>\n",
              "      <td>A</td>\n",
              "      <td>A</td>\n",
              "      <td>A</td>\n",
              "      <td>G</td>\n",
              "      <td>C</td>\n",
              "      <td>...</td>\n",
              "      <td>0</td>\n",
              "      <td>0</td>\n",
              "      <td>0</td>\n",
              "      <td>0</td>\n",
              "      <td>0</td>\n",
              "      <td>0</td>\n",
              "      <td>0</td>\n",
              "      <td>0</td>\n",
              "      <td>0</td>\n",
              "      <td>0</td>\n",
              "      <td>0</td>\n",
              "      <td>0</td>\n",
              "      <td>0</td>\n",
              "      <td>0</td>\n",
              "      <td>0</td>\n",
              "      <td>0</td>\n",
              "      <td>0</td>\n",
              "      <td>0</td>\n",
              "      <td>0</td>\n",
              "      <td>0</td>\n",
              "      <td>0</td>\n",
              "      <td>0</td>\n",
              "      <td>0</td>\n",
              "      <td>0</td>\n",
              "      <td>0</td>\n",
              "      <td>0</td>\n",
              "      <td>0</td>\n",
              "      <td>0</td>\n",
              "      <td>0</td>\n",
              "      <td>0</td>\n",
              "      <td>0</td>\n",
              "      <td>0</td>\n",
              "      <td>0</td>\n",
              "      <td>0</td>\n",
              "      <td>0</td>\n",
              "      <td>0</td>\n",
              "      <td>0</td>\n",
              "      <td>0</td>\n",
              "      <td>0</td>\n",
              "      <td>0</td>\n",
              "    </tr>\n",
              "    <tr>\n",
              "      <th>2</th>\n",
              "      <td>C</td>\n",
              "      <td>C</td>\n",
              "      <td>C</td>\n",
              "      <td>A</td>\n",
              "      <td>T</td>\n",
              "      <td>T</td>\n",
              "      <td>A</td>\n",
              "      <td>G</td>\n",
              "      <td>T</td>\n",
              "      <td>C</td>\n",
              "      <td>C</td>\n",
              "      <td>T</td>\n",
              "      <td>A</td>\n",
              "      <td>T</td>\n",
              "      <td>T</td>\n",
              "      <td>G</td>\n",
              "      <td>A</td>\n",
              "      <td>A</td>\n",
              "      <td>A</td>\n",
              "      <td>C</td>\n",
              "      <td>T</td>\n",
              "      <td>G</td>\n",
              "      <td>T</td>\n",
              "      <td>A</td>\n",
              "      <td>C</td>\n",
              "      <td>C</td>\n",
              "      <td>A</td>\n",
              "      <td>G</td>\n",
              "      <td>T</td>\n",
              "      <td>A</td>\n",
              "      <td>A</td>\n",
              "      <td>A</td>\n",
              "      <td>A</td>\n",
              "      <td>T</td>\n",
              "      <td>T</td>\n",
              "      <td>A</td>\n",
              "      <td>A</td>\n",
              "      <td>A</td>\n",
              "      <td>G</td>\n",
              "      <td>C</td>\n",
              "      <td>...</td>\n",
              "      <td>0</td>\n",
              "      <td>0</td>\n",
              "      <td>0</td>\n",
              "      <td>0</td>\n",
              "      <td>0</td>\n",
              "      <td>0</td>\n",
              "      <td>0</td>\n",
              "      <td>0</td>\n",
              "      <td>0</td>\n",
              "      <td>0</td>\n",
              "      <td>0</td>\n",
              "      <td>0</td>\n",
              "      <td>0</td>\n",
              "      <td>0</td>\n",
              "      <td>0</td>\n",
              "      <td>0</td>\n",
              "      <td>0</td>\n",
              "      <td>0</td>\n",
              "      <td>0</td>\n",
              "      <td>0</td>\n",
              "      <td>0</td>\n",
              "      <td>0</td>\n",
              "      <td>0</td>\n",
              "      <td>0</td>\n",
              "      <td>0</td>\n",
              "      <td>0</td>\n",
              "      <td>0</td>\n",
              "      <td>0</td>\n",
              "      <td>0</td>\n",
              "      <td>0</td>\n",
              "      <td>0</td>\n",
              "      <td>0</td>\n",
              "      <td>0</td>\n",
              "      <td>0</td>\n",
              "      <td>0</td>\n",
              "      <td>0</td>\n",
              "      <td>0</td>\n",
              "      <td>0</td>\n",
              "      <td>0</td>\n",
              "      <td>0</td>\n",
              "    </tr>\n",
              "    <tr>\n",
              "      <th>3</th>\n",
              "      <td>C</td>\n",
              "      <td>C</td>\n",
              "      <td>C</td>\n",
              "      <td>A</td>\n",
              "      <td>T</td>\n",
              "      <td>T</td>\n",
              "      <td>A</td>\n",
              "      <td>G</td>\n",
              "      <td>T</td>\n",
              "      <td>C</td>\n",
              "      <td>C</td>\n",
              "      <td>T</td>\n",
              "      <td>A</td>\n",
              "      <td>T</td>\n",
              "      <td>T</td>\n",
              "      <td>G</td>\n",
              "      <td>A</td>\n",
              "      <td>A</td>\n",
              "      <td>A</td>\n",
              "      <td>C</td>\n",
              "      <td>T</td>\n",
              "      <td>G</td>\n",
              "      <td>T</td>\n",
              "      <td>A</td>\n",
              "      <td>C</td>\n",
              "      <td>C</td>\n",
              "      <td>A</td>\n",
              "      <td>G</td>\n",
              "      <td>T</td>\n",
              "      <td>A</td>\n",
              "      <td>A</td>\n",
              "      <td>A</td>\n",
              "      <td>A</td>\n",
              "      <td>T</td>\n",
              "      <td>T</td>\n",
              "      <td>A</td>\n",
              "      <td>A</td>\n",
              "      <td>A</td>\n",
              "      <td>G</td>\n",
              "      <td>C</td>\n",
              "      <td>...</td>\n",
              "      <td>A</td>\n",
              "      <td>T</td>\n",
              "      <td>T</td>\n",
              "      <td>C</td>\n",
              "      <td>A</td>\n",
              "      <td>T</td>\n",
              "      <td>C</td>\n",
              "      <td>T</td>\n",
              "      <td>A</td>\n",
              "      <td>G</td>\n",
              "      <td>C</td>\n",
              "      <td>N</td>\n",
              "      <td>0</td>\n",
              "      <td>0</td>\n",
              "      <td>0</td>\n",
              "      <td>0</td>\n",
              "      <td>0</td>\n",
              "      <td>0</td>\n",
              "      <td>0</td>\n",
              "      <td>0</td>\n",
              "      <td>0</td>\n",
              "      <td>0</td>\n",
              "      <td>0</td>\n",
              "      <td>0</td>\n",
              "      <td>0</td>\n",
              "      <td>0</td>\n",
              "      <td>0</td>\n",
              "      <td>0</td>\n",
              "      <td>0</td>\n",
              "      <td>0</td>\n",
              "      <td>0</td>\n",
              "      <td>0</td>\n",
              "      <td>0</td>\n",
              "      <td>0</td>\n",
              "      <td>0</td>\n",
              "      <td>0</td>\n",
              "      <td>0</td>\n",
              "      <td>0</td>\n",
              "      <td>0</td>\n",
              "      <td>0</td>\n",
              "    </tr>\n",
              "    <tr>\n",
              "      <th>4</th>\n",
              "      <td>C</td>\n",
              "      <td>C</td>\n",
              "      <td>C</td>\n",
              "      <td>A</td>\n",
              "      <td>T</td>\n",
              "      <td>T</td>\n",
              "      <td>A</td>\n",
              "      <td>G</td>\n",
              "      <td>T</td>\n",
              "      <td>C</td>\n",
              "      <td>C</td>\n",
              "      <td>T</td>\n",
              "      <td>A</td>\n",
              "      <td>T</td>\n",
              "      <td>T</td>\n",
              "      <td>G</td>\n",
              "      <td>A</td>\n",
              "      <td>A</td>\n",
              "      <td>A</td>\n",
              "      <td>C</td>\n",
              "      <td>T</td>\n",
              "      <td>G</td>\n",
              "      <td>T</td>\n",
              "      <td>A</td>\n",
              "      <td>C</td>\n",
              "      <td>C</td>\n",
              "      <td>A</td>\n",
              "      <td>G</td>\n",
              "      <td>T</td>\n",
              "      <td>A</td>\n",
              "      <td>A</td>\n",
              "      <td>A</td>\n",
              "      <td>A</td>\n",
              "      <td>T</td>\n",
              "      <td>T</td>\n",
              "      <td>A</td>\n",
              "      <td>A</td>\n",
              "      <td>A</td>\n",
              "      <td>G</td>\n",
              "      <td>C</td>\n",
              "      <td>...</td>\n",
              "      <td>0</td>\n",
              "      <td>0</td>\n",
              "      <td>0</td>\n",
              "      <td>0</td>\n",
              "      <td>0</td>\n",
              "      <td>0</td>\n",
              "      <td>0</td>\n",
              "      <td>0</td>\n",
              "      <td>0</td>\n",
              "      <td>0</td>\n",
              "      <td>0</td>\n",
              "      <td>0</td>\n",
              "      <td>0</td>\n",
              "      <td>0</td>\n",
              "      <td>0</td>\n",
              "      <td>0</td>\n",
              "      <td>0</td>\n",
              "      <td>0</td>\n",
              "      <td>0</td>\n",
              "      <td>0</td>\n",
              "      <td>0</td>\n",
              "      <td>0</td>\n",
              "      <td>0</td>\n",
              "      <td>0</td>\n",
              "      <td>0</td>\n",
              "      <td>0</td>\n",
              "      <td>0</td>\n",
              "      <td>0</td>\n",
              "      <td>0</td>\n",
              "      <td>0</td>\n",
              "      <td>0</td>\n",
              "      <td>0</td>\n",
              "      <td>0</td>\n",
              "      <td>0</td>\n",
              "      <td>0</td>\n",
              "      <td>0</td>\n",
              "      <td>0</td>\n",
              "      <td>0</td>\n",
              "      <td>0</td>\n",
              "      <td>0</td>\n",
              "    </tr>\n",
              "  </tbody>\n",
              "</table>\n",
              "<p>5 rows × 1483 columns</p>\n",
              "</div>"
            ],
            "text/plain": [
              "   0  1  2  3  4  5  6  7  8  ... 1474 1475 1476 1477 1478 1479 1480 1481 resp\n",
              "0  C  C  C  A  T  T  A  G  T  ...    0    0    0    0    0    0    0    0    0\n",
              "1  C  C  C  A  T  T  A  G  T  ...    0    0    0    0    0    0    0    0    0\n",
              "2  C  C  C  A  T  T  A  G  T  ...    0    0    0    0    0    0    0    0    0\n",
              "3  C  C  C  A  T  T  A  G  T  ...    0    0    0    0    0    0    0    0    0\n",
              "4  C  C  C  A  T  T  A  G  T  ...    0    0    0    0    0    0    0    0    0\n",
              "\n",
              "[5 rows x 1483 columns]"
            ]
          },
          "metadata": {},
          "execution_count": 145
        }
      ]
    },
    {
      "cell_type": "code",
      "metadata": {
        "id": "BJ_DTCWMS6gV"
      },
      "source": [
        "all_codes = []\n",
        "for i in range(length):\n",
        "    all_codes.extend(df[i].unique())\n",
        "all_codes = pd.Series(all_codes).unique()\n",
        "all_codes = dict(zip(all_codes,range(len(all_codes))))\n",
        "df_code=pd.DataFrame()\n",
        "for i in range(length):\n",
        "    df_code[i] = df[i].apply(lambda x: all_codes[x])"
      ],
      "execution_count": 146,
      "outputs": []
    },
    {
      "cell_type": "code",
      "metadata": {
        "id": "1nO5sPCl-nFh"
      },
      "source": [
        "# get the average value at each index in the sequence\n",
        "avg_seq = []\n",
        "for i in range(length):\n",
        "    avg_seq.append(df[i].mode().item())"
      ],
      "execution_count": 147,
      "outputs": []
    },
    {
      "cell_type": "code",
      "metadata": {
        "id": "WHpZCFoOBx-u"
      },
      "source": [
        "df_diff=pd.DataFrame()\n",
        "for i in range(length):\n",
        "    df_diff[i] = df[i]!=avg_seq[i]\n",
        "    # df_diff[i] = (df[i]!=avg_seq[i])/(df[i]!=avg_seq[i]).sum"
      ],
      "execution_count": 148,
      "outputs": []
    },
    {
      "cell_type": "code",
      "metadata": {
        "id": "gqu-oD2iSCnx"
      },
      "source": [
        "# X_train, X_test, y_train, y_test = train_test_split(df_code, df['resp'], test_size=0.30)"
      ],
      "execution_count": 149,
      "outputs": []
    },
    {
      "cell_type": "code",
      "metadata": {
        "id": "Y70sOgcMOYjl"
      },
      "source": [
        "# df_diff\n",
        "# X_train, X_test, y_train, y_test = train_test_split(df_diff, df['resp'], test_size=0.30)"
      ],
      "execution_count": 150,
      "outputs": []
    },
    {
      "cell_type": "code",
      "metadata": {
        "id": "1uvXW49IVv5l"
      },
      "source": [
        "X_train, X_test, y_train, y_test = train_test_split(df_train[['VL-t0','CD4-t0']], df_train['Resp'], test_size=0.20)"
      ],
      "execution_count": 151,
      "outputs": []
    },
    {
      "cell_type": "code",
      "metadata": {
        "id": "zlkKb6YHO3ak"
      },
      "source": [
        "xgb_classifier = xgb.XGBClassifier(learning_rate = 0.1, max_depth = 5, alpha = 10, n_estimators = 10,scale_pos_weight=1)\n",
        "xgb_classifier.fit(X_train,y_train)\n",
        "preds = xgb_classifier.predict(X_test)"
      ],
      "execution_count": 152,
      "outputs": []
    },
    {
      "cell_type": "code",
      "metadata": {
        "colab": {
          "base_uri": "https://localhost:8080/"
        },
        "id": "Py08Q9G0PRA9",
        "outputId": "0b552dc1-514a-4c9b-c8f4-18973e549ba2"
      },
      "source": [
        "confusion_matrix(y_test, preds)"
      ],
      "execution_count": 153,
      "outputs": [
        {
          "output_type": "execute_result",
          "data": {
            "text/plain": [
              "array([[136,   7],\n",
              "       [ 30,  11]])"
            ]
          },
          "metadata": {},
          "execution_count": 153
        }
      ]
    },
    {
      "cell_type": "code",
      "metadata": {
        "id": "PkrnRtsDQDs4"
      },
      "source": [
        "feature = 'PR Seq'"
      ],
      "execution_count": 154,
      "outputs": []
    }
  ]
}